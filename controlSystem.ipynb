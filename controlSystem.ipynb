{
 "cells": [
  {
   "cell_type": "code",
   "execution_count": 16,
   "metadata": {},
   "outputs": [
    {
     "name": "stdout",
     "output_type": "stream",
     "text": [
      "Took yellow as part of ROI\n",
      "************************RATIO CONVERSION*****************************\n",
      "Estimated area in meters:                1563.74 square meters\n",
      "Actual area in meters:                   1857.54 square meters\n",
      "Estimated area in pixels:                               15051\n",
      "Actual area in pixels:                                  41595\n",
      "**************************CONTOURS************************************\n",
      "Estimated area in meters:                1166.91 square meters\n",
      "Actual area in meters:                   1344.02 square meters\n",
      "Estimated area (bounding box):                   26130 pixels\n",
      "Actual area (bounding box):                      30096 pixels\n",
      "************************NUMBER OF CARS********************************\n",
      "Actual number of cars:                      165.9285723146391\n",
      "Estimated number of cars using contours:   144.06278557221952\n",
      "Estimated number of cars using pixel conversion:   193.05435305435307\n",
      "193 120\n"
     ]
    }
   ],
   "source": [
    "from main import generate_estimation\n",
    "_, numOfCars = generate_estimation()\n",
    "numOfCars\n",
    "greenTime = min(numOfCars * 2 + 3, 120)\n",
    "print(numOfCars, greenTime)\n"
   ]
  },
  {
   "cell_type": "code",
   "execution_count": null,
   "metadata": {},
   "outputs": [],
   "source": [
    "class TrafficLight:\n",
    "    def __init__(self, trafficID, lanes):\n",
    "        self.trafficID = trafficID\n",
    "        self.lanes = lanes\n",
    "        self.totalCars = 0\n",
    "        self.carsPerLane = 0\n",
    "        self.greenTime = 0\n",
    "\n",
    "    def update_traffic(self, totalCars, carsPerLane, greenTime):\n",
    "        self.totalCars = totalCars\n",
    "        self.carsPerLane = carsPerLane\n",
    "        self.greenTime = greenTime\n",
    "\n",
    "    def __str__(self):\n",
    "        return (f\"Traffic Light {self.trafficID} -> Lanes: {self.lanes}, Total Cars: {self.totalCars}, \"\n",
    "                f\"Cars per Lane: {self.carsPerLane}, Green Time: {self.greenTime}s\")\n",
    "\n",
    "class CircularTrafficLights:\n",
    "    def __init__(self, lights):\n",
    "        self.lights = lights\n",
    "        self.index = 0\n",
    "\n",
    "    def __iter__(self):\n",
    "        return self\n",
    "\n",
    "    def __next__(self):\n",
    "        if not self.lights:\n",
    "            raise StopIteration\n",
    "        light = self.lights[self.index]\n",
    "        self.index = (self.index + 1) % len(self.lights)\n",
    "        return light\n",
    "\n",
    "    def update_light(self, trafficID, totalCars, carsPerLane, greenTime):\n",
    "        for light in self.lights:\n",
    "            if light.trafficID == trafficID:\n",
    "                light.update_traffic(totalCars, carsPerLane, greenTime)\n",
    "                print(f\"Updated Traffic Light {trafficID}\")\n",
    "\n",
    "# Example usage:\n",
    "lights = [\n",
    "    TrafficLight(1, 3),\n",
    "    TrafficLight(2, 4),\n",
    "    TrafficLight(3, 2),\n",
    "    TrafficLight(4, 3)\n",
    "]\n",
    "\n",
    "traffic_circle = CircularTrafficLights(lights)\n",
    "\n",
    "# Simulating updates and looping through them\n",
    "for _ in range(2):  # Loop a couple of times to show updates and circular nature\n",
    "    for light in traffic_circle:\n",
    "        # Example of updating each light\n",
    "        totalCars = 20  # Simulated number of cars\n",
    "        carsPerLane = [5, 10, 5][:light.lanes]  # Simulated cars per lane distribution\n",
    "        greenTime = 30  # Simulated green time in seconds\n",
    "        light.update_traffic(totalCars, carsPerLane, greenTime)\n",
    "        print(light)\n",
    "\n",
    "# Showing the effect of updates\n",
    "for light in traffic_circle:\n",
    "    print(light)\n"
   ]
  }
 ],
 "metadata": {
  "kernelspec": {
   "display_name": "Python 3",
   "language": "python",
   "name": "python3"
  },
  "language_info": {
   "codemirror_mode": {
    "name": "ipython",
    "version": 3
   },
   "file_extension": ".py",
   "mimetype": "text/x-python",
   "name": "python",
   "nbconvert_exporter": "python",
   "pygments_lexer": "ipython3",
   "version": "3.11.3"
  }
 },
 "nbformat": 4,
 "nbformat_minor": 2
}
