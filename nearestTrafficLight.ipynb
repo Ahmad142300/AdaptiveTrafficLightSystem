{
 "cells": [
  {
   "cell_type": "code",
   "execution_count": 11,
   "metadata": {},
   "outputs": [
    {
     "name": "stdout",
     "output_type": "stream",
     "text": [
      "Traffic Light at Latitude: 21.5108592, Longitude: 39.1820872, Distance: 3.0375128625529403e-05 km\n",
      "Traffic Light at Latitude: 21.5103552, Longitude: 39.182153, Distance: 0.056434550505255275 km\n",
      "Traffic Light at Latitude: 21.510911, Longitude: 39.1827789, Distance: 0.07181020013083365 km\n",
      "Traffic Light at Latitude: 21.5104026, Longitude: 39.1828798, Distance: 0.0964468971883518 km\n",
      "Traffic Light at Latitude: 21.5115361, Longitude: 39.2089389, Distance: 2.7788423938401157 km\n",
      "Traffic Light at Latitude: 21.5115524, Longitude: 39.2092274, Distance: 2.80872581827678 km\n",
      "Traffic Light at Latitude: 21.5109487, Longitude: 39.209301, Distance: 2.815304759600892 km\n",
      "Traffic Light at Latitude: 21.5111172, Longitude: 39.2095295, Distance: 2.8390689341351583 km\n",
      "Traffic Light at Latitude: 21.5109457, Longitude: 39.2096045, Distance: 2.8467005062795354 km\n"
     ]
    }
   ],
   "source": [
    "import requests\n",
    "import json\n",
    "import math\n",
    "\n",
    "def haversine(lat1, lon1, lat2, lon2):\n",
    "    R = 6371  # Earth radius in kilometers\n",
    "    dLat = math.radians(lat2 - lat1)\n",
    "    dLon = math.radians(lon2 - lon1)\n",
    "    a = math.sin(dLat / 2) ** 2 + math.cos(math.radians(lat1)) * math.cos(math.radians(lat2)) * math.sin(dLon / 2) ** 2\n",
    "    c = 2 * math.atan2(math.sqrt(a), math.sqrt(1 - a))\n",
    "    distance = R * c\n",
    "    return distance\n",
    "\n",
    "def find_traffic_lights_sorted(latitude, longitude):\n",
    "    overpass_url = \"http://overpass-api.de/api/interpreter\"\n",
    "    overpass_query = f\"\"\"\n",
    "    [out:json];\n",
    "    (\n",
    "      node[\"highway\"=\"traffic_signals\"](around:3000,{latitude},{longitude});\n",
    "    );\n",
    "    out body;\n",
    "    \"\"\"\n",
    "    response = requests.get(overpass_url, params={'data': overpass_query})\n",
    "    traffic_lights = response.json()['elements']\n",
    "    \n",
    "    # Calculate distance for each traffic light and add it as a new key-value pair\n",
    "    for light in traffic_lights:\n",
    "        light['distance'] = haversine(latitude, longitude, light['lat'], light['lon'])\n",
    "    \n",
    "    # Sort the traffic lights by distance\n",
    "    sorted_traffic_lights = sorted(traffic_lights, key=lambda x: x['distance'])\n",
    "    \n",
    "    return sorted_traffic_lights\n",
    "\n",
    "# Example usage\n",
    "latitude = 21.510859  # Latitude for King Abdulaziz University\n",
    "longitude = 39.182087  # Longitude for King Abdulaziz University\n",
    "sorted_lights = find_traffic_lights_sorted(latitude, longitude)\n",
    "for light in sorted_lights:\n",
    "    print(f\"Traffic Light at Latitude: {light['lat']}, Longitude: {light['lon']}, Distance: {light['distance']} km\")"
   ]
  }
 ],
 "metadata": {
  "kernelspec": {
   "display_name": "Python 3",
   "language": "python",
   "name": "python3"
  },
  "language_info": {
   "codemirror_mode": {
    "name": "ipython",
    "version": 3
   },
   "file_extension": ".py",
   "mimetype": "text/x-python",
   "name": "python",
   "nbconvert_exporter": "python",
   "pygments_lexer": "ipython3",
   "version": "3.11.3"
  }
 },
 "nbformat": 4,
 "nbformat_minor": 2
}
