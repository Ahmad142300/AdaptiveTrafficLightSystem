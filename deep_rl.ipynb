{
 "cells": [
  {
   "cell_type": "code",
   "execution_count": 24,
   "metadata": {},
   "outputs": [],
   "source": [
    "# pip install xgboost"
   ]
  },
  {
   "cell_type": "code",
   "execution_count": 25,
   "metadata": {},
   "outputs": [],
   "source": [
    "import pandas as pd\n",
    "import numpy as np\n",
    "import xgboost as xgb\n",
    "from sklearn.model_selection import train_test_split\n",
    "from sklearn.metrics import mean_squared_error\n",
    "from sklearn.preprocessing import StandardScaler\n",
    "from sklearn.model_selection import GridSearchCV\n",
    "import matplotlib.pyplot as plt\n"
   ]
  },
  {
   "cell_type": "code",
   "execution_count": 26,
   "metadata": {},
   "outputs": [],
   "source": [
    "# Load JSON data into a DataFrame\n",
    "df = pd.read_csv('dataset1.csv')"
   ]
  },
  {
   "cell_type": "markdown",
   "metadata": {},
   "source": [
    "FEATURE ENGINEERING AND EXRTACTION"
   ]
  },
  {
   "cell_type": "code",
   "execution_count": 27,
   "metadata": {},
   "outputs": [],
   "source": [
    "# categorize trafficIDs from strings that contain letters and numbers to just numbers\n",
    "df['trafficID'] = df['trafficID'].astype('category').cat.codes"
   ]
  },
  {
   "cell_type": "code",
   "execution_count": 28,
   "metadata": {},
   "outputs": [],
   "source": [
    "# Convert timestamps to datetime if they aren't already\n",
    "df['timeStamp'] = pd.to_datetime(df['timeStamp'])\n",
    "\n",
    "# Extract date and time components\n",
    "df['hour'] = df['timeStamp'].dt.hour\n",
    "df['minute'] = df['timeStamp'].dt.minute\n",
    "df['second'] = df['timeStamp'].dt.second\n",
    "\n",
    "\n",
    "# Assumption: 70% of cars go forward, 20% turn left, 10% turn right.\n",
    "# These assumptions will be replaced with actual data in the future using sensors.\n",
    "df['forward_flow'] = round(df['num_cars'] * 0.7)\n",
    "df['left_flow'] = round(df['num_cars'] * 0.2)\n",
    "df['right_flow'] = round(df['num_cars'] * 0.1)\n",
    "\n",
    "# Calculate flow ratios for each direction\n",
    "df['forward_flow_ratio'] = df['forward_flow'] / df['num_cars']\n",
    "df['left_flow_ratio'] = df['left_flow'] / df['num_cars']\n",
    "df['right_flow_ratio'] = df['right_flow'] / df['num_cars']\n"
   ]
  },
  {
   "cell_type": "code",
   "execution_count": 29,
   "metadata": {},
   "outputs": [],
   "source": [
    "# Temporal Features based on trafficID\n",
    "df['time_since_last_green'] = df.groupby('trafficID')['timeStamp'].diff().dt.total_seconds().fillna(0)\n",
    "\n",
    "# Average time between green signals\n",
    "df['avg_time_between_greens'] = df.groupby('trafficID')['timeStamp'].diff().dt.total_seconds().groupby(df['trafficID']).transform('mean').fillna(0)"
   ]
  },
  {
   "cell_type": "code",
   "execution_count": 30,
   "metadata": {},
   "outputs": [],
   "source": [
    "# Peak flow is the maximum flow of cars in any direction categorized into  0, 1, 2\n",
    "# 0: forward flow, 1: left flow, 2: right flow\n",
    "df['peak_flow'] = df[['forward_flow', 'left_flow', 'right_flow']].idxmax(axis=1).astype('category').cat.codes\n"
   ]
  },
  {
   "cell_type": "code",
   "execution_count": 31,
   "metadata": {},
   "outputs": [],
   "source": [
    "def categorize_time_of_day(hour):\n",
    "    '''Categorize the time of day based on the hour of the day.'''\n",
    "    if 5 <= hour < 12:\n",
    "        return 'Morning'\n",
    "    elif 12 <= hour < 17:\n",
    "        return 'Afternoon'\n",
    "    elif 17 <= hour < 21:\n",
    "        return 'Evening'\n",
    "    else:\n",
    "        return 'Night'\n",
    "\n",
    "df['part_of_day'] = df['hour'].apply(categorize_time_of_day)"
   ]
  },
  {
   "cell_type": "code",
   "execution_count": 32,
   "metadata": {},
   "outputs": [],
   "source": [
    "# Calculate the difference in car count between consecutive time stamps by traffic ID\n",
    "df['car_count_diff'] = df.groupby('trafficID')['num_cars'].diff()"
   ]
  },
  {
   "cell_type": "code",
   "execution_count": 33,
   "metadata": {},
   "outputs": [],
   "source": [
    "# Calculate the exponential moving average of the number of cars\n",
    "df['ema_cars'] = df['num_cars'].ewm(span=10, adjust=False).mean()"
   ]
  },
  {
   "cell_type": "code",
   "execution_count": 34,
   "metadata": {},
   "outputs": [],
   "source": [
    "# Create a columns to indicate whether the day is a weekend or not\n",
    "df['weekday'] = df['timeStamp'].dt.weekday\n",
    "df['is_weekend'] = df['weekday'].apply(lambda x: 1 if x >= 5 else 0)"
   ]
  },
  {
   "cell_type": "code",
   "execution_count": 35,
   "metadata": {},
   "outputs": [],
   "source": [
    "# Create a column to indicate whether the day is a public holiday or not\n",
    "public_holidays = set(['2024-09-23', '2025-02-22']) # Saudi National Day and Founding Day of the Kingdom of Saudi Arabia\n",
    "df['is_public_holiday'] = df['timeStamp'].dt.date.astype(str).isin(public_holidays).astype(int)"
   ]
  },
  {
   "cell_type": "code",
   "execution_count": 36,
   "metadata": {},
   "outputs": [],
   "source": [
    "# Create a column to indicate the time of day as a sin/cos pair\n",
    "period = 7 * 24  # 7 days * 24 hours\n",
    "df['sin_time'] = np.sin(2 * np.pi * df['timeStamp'].dt.hour / period)\n",
    "df['cos_time'] = np.cos(2 * np.pi * df['timeStamp'].dt.hour / period)\n"
   ]
  },
  {
   "cell_type": "code",
   "execution_count": 37,
   "metadata": {},
   "outputs": [],
   "source": [
    "# Removing NaN values from car_count_diff column and setting them to 0\n",
    "df['car_count_diff'].fillna(value=0, inplace=True)\n",
    "# df['weatherStamp:'].fillna(value=30, inplace=True)"
   ]
  },
  {
   "cell_type": "code",
   "execution_count": 38,
   "metadata": {},
   "outputs": [],
   "source": [
    "# Group by date and trafficID, calculate the mean of the 3 flow directions, then calculate the mean of the 3 flow directions\n",
    "daily_std_dev = df.groupby(['dateStamp', 'trafficID'])[['forward_flow', 'left_flow', 'right_flow']].std().mean(axis=1).reset_index()\n",
    "\n",
    "# Rename the column for clarity\n",
    "daily_std_dev.columns = ['dateStamp', 'trafficID', 'daily_std_dev']\n",
    "\n",
    "# Merge the daily standard deviation back to the original DataFrame\n",
    "df = pd.merge(df, daily_std_dev, on=['dateStamp', 'trafficID'])"
   ]
  },
  {
   "cell_type": "code",
   "execution_count": 39,
   "metadata": {},
   "outputs": [],
   "source": [
    "# Data handling before model training\n",
    "# convert timestamp to numeric\n",
    "df['timeStamp_numeric'] = df['timeStamp'].apply(lambda x: x.timestamp())\n",
    "# convert dateStamp from str to datetime then to numeric\n",
    "df['dateStamp'] = pd.to_datetime(df['dateStamp'])\n",
    "df['dateStamp_numeric'] = df['dateStamp'].apply(lambda x: x.timestamp())\n",
    "# drop the original timestamp and datestamp columns\n",
    "df.drop(['timeStamp', 'dateStamp'], axis=1, inplace=True)"
   ]
  },
  {
   "cell_type": "code",
   "execution_count": 40,
   "metadata": {},
   "outputs": [],
   "source": [
    "# change part_of_day to categories and then to numeric\n",
    "df['part_of_day'] = df['part_of_day'].astype('category').cat.codes  # convert to numeric"
   ]
  },
  {
   "cell_type": "code",
   "execution_count": 41,
   "metadata": {},
   "outputs": [],
   "source": [
    "# Dropping unneeded columns\n",
    "# Drop hour, min, second\n",
    "df.drop(['hour', 'minute', 'second'], axis=1, inplace=True)\n",
    "\n",
    "# drop flow ratios\n",
    "df.drop(['forward_flow_ratio', 'left_flow_ratio', 'right_flow_ratio'], axis=1, inplace=True)\n",
    "\n",
    "# drop timeStamp_numeric\n",
    "df.drop(['timeStamp_numeric'], axis=1, inplace=True)\n",
    "\n",
    "# drop weatherStamp:\n",
    "df.drop(['weatherStamp:'], axis=1, inplace=True)\n",
    "\n"
   ]
  },
  {
   "cell_type": "code",
   "execution_count": 42,
   "metadata": {},
   "outputs": [],
   "source": [
    "# Convert all str columns in df to numeric (float)\n",
    "for col in df.columns:\n",
    "    if df[col].dtype == 'str':\n",
    "        df[col] = pd.to_numeric(df[col], errors='coerce', inplace=True)"
   ]
  },
  {
   "cell_type": "code",
   "execution_count": 43,
   "metadata": {},
   "outputs": [
    {
     "name": "stdout",
     "output_type": "stream",
     "text": [
      "trafficID: int8\n",
      "num_cars: int64\n",
      "greenTime: int64\n",
      "forward_flow: float64\n",
      "left_flow: float64\n",
      "right_flow: float64\n",
      "time_since_last_green: float64\n",
      "avg_time_between_greens: float64\n",
      "peak_flow: int8\n",
      "part_of_day: int8\n",
      "car_count_diff: float64\n",
      "ema_cars: float64\n",
      "weekday: int64\n",
      "is_weekend: int64\n",
      "is_public_holiday: int32\n",
      "sin_time: float64\n",
      "cos_time: float64\n",
      "daily_std_dev: float64\n",
      "dateStamp_numeric: float64\n"
     ]
    }
   ],
   "source": [
    "for col in df.columns:\n",
    "    print(f\"{col}: {df[col].dtype}\")"
   ]
  },
  {
   "cell_type": "code",
   "execution_count": 44,
   "metadata": {},
   "outputs": [],
   "source": [
    "# replace Nans with 0 and inf with 1e9\n",
    "df.fillna(0, inplace=True)"
   ]
  },
  {
   "cell_type": "markdown",
   "metadata": {},
   "source": [
    "Normalization"
   ]
  },
  {
   "cell_type": "code",
   "execution_count": 45,
   "metadata": {},
   "outputs": [],
   "source": [
    "# Prepare the scaler\n",
    "scaler = StandardScaler()\n",
    "\n",
    "# Define columns to be scaled\n",
    "columns_to_normalize = ['num_cars', 'daily_std_dev', 'time_since_last_green', 'avg_time_between_greens', 'ema_cars', 'car_count_diff', 'forward_flow', 'left_flow', 'right_flow']\n",
    "\n",
    "# Normalize these columns\n",
    "df[columns_to_normalize] = scaler.fit_transform(df[columns_to_normalize])\n"
   ]
  },
  {
   "cell_type": "code",
   "execution_count": 46,
   "metadata": {},
   "outputs": [],
   "source": [
    "# from sklearn.ensemble import RandomForestRegressor\n",
    "# from sklearn.metrics import mean_squared_error\n",
    "# import numpy as np\n",
    "\n",
    "# # Example model setup\n",
    "# rf = RandomForestRegressor(n_estimators=100, max_depth=10, random_state=42)\n",
    "# rf.fit(X_train, y_train)\n",
    "# predictions = rf.predict(X_test)\n",
    "\n",
    "# # Calculate RMSE\n",
    "# rmse = np.sqrt(mean_squared_error(y_test, predictions))\n",
    "# print(\"Root Mean Squared Error:\", rmse)\n"
   ]
  },
  {
   "cell_type": "markdown",
   "metadata": {},
   "source": [
    "XGBoost Model"
   ]
  },
  {
   "cell_type": "code",
   "execution_count": 47,
   "metadata": {},
   "outputs": [],
   "source": [
    "# Split the data into input features and target\n",
    "# Define your features and target variable\n",
    "\n",
    "feature_cols = ['trafficID', 'num_cars', 'forward_flow', 'left_flow',\n",
    "                'right_flow', 'time_since_last_green', 'avg_time_between_greens',\n",
    "                'peak_flow', 'part_of_day', 'car_count_diff', 'ema_cars', 'weekday',\n",
    "                'is_weekend', 'is_public_holiday', 'sin_time', 'cos_time',\n",
    "                'daily_std_dev', 'dateStamp_numeric']\n",
    "\n",
    "target_col = 'greenTime'\n",
    "\n",
    "# Split the data into input features and target\n",
    "X = df[feature_cols]\n",
    "y = df[target_col]\n",
    "\n",
    "# Split the data into training and test sets\n",
    "X_train, X_test, y_train, y_test = train_test_split(X, y, test_size=0.2, shuffle=False)\n"
   ]
  },
  {
   "cell_type": "code",
   "execution_count": 48,
   "metadata": {},
   "outputs": [
    {
     "data": {
      "text/plain": [
       "18"
      ]
     },
     "execution_count": 48,
     "metadata": {},
     "output_type": "execute_result"
    }
   ],
   "source": [
    "len(feature_cols)"
   ]
  },
  {
   "cell_type": "code",
   "execution_count": 49,
   "metadata": {},
   "outputs": [
    {
     "name": "stdout",
     "output_type": "stream",
     "text": [
      "Root Mean Squared Error: 2.0460841233790443\n"
     ]
    }
   ],
   "source": [
    "# Define the model\n",
    "model = xgb.XGBRegressor(objective ='reg:squarederror', \n",
    "                         colsample_bytree = 0.7, \n",
    "                         learning_rate = 0.05,\n",
    "                         max_depth = 7, \n",
    "                         alpha = 5, \n",
    "                         n_estimators = 100)\n",
    "\n",
    "# Train the model\n",
    "model.fit(X_train, y_train)\n",
    "\n",
    "# Predictions\n",
    "predictions = model.predict(X_test)\n",
    "\n",
    "# Evaluate the model\n",
    "rmse = np.sqrt(mean_squared_error(y_test, predictions))\n",
    "print(\"Root Mean Squared Error:\", rmse)"
   ]
  },
  {
   "cell_type": "code",
   "execution_count": 50,
   "metadata": {},
   "outputs": [],
   "source": [
    "# model2 = xgb.XGBRegressor(objective='reg:squarederror')\n",
    "\n",
    "# # Define the parameter grid\n",
    "# param_grid = {\n",
    "#     'colsample_bytree': [0.3, 0.7],\n",
    "#     'learning_rate': [0.05, 0.1, 0.15],\n",
    "#     'max_depth': [3, 5, 7],\n",
    "#     'alpha': [5, 10],\n",
    "#     'n_estimators': [100, 1000, 10000]\n",
    "# }\n",
    "\n",
    "# # Setup the grid search\n",
    "# grid_search = GridSearchCV(estimator=model2, param_grid=param_grid, cv=3, scoring='neg_root_mean_squared_error', verbose=1)\n",
    "\n",
    "# # Fit the grid search to the data\n",
    "# grid_search.fit(X_train, y_train)\n",
    "\n",
    "# # Print the best parameters and best score\n",
    "# print(\"Best parameters found: \", grid_search.best_params_)\n",
    "# print(\"Best RMSE: \", -grid_search.best_score_)"
   ]
  },
  {
   "cell_type": "code",
   "execution_count": 51,
   "metadata": {},
   "outputs": [
    {
     "data": {
      "image/png": "[encoded data removed]",
      "text/plain": [
       "<Figure size 640x480 with 1 Axes>"
      ]
     },
     "metadata": {},
     "output_type": "display_data"
    }
   ],
   "source": [
    "import matplotlib.pyplot as plt\n",
    "import xgboost as xgb\n",
    "\n",
    "# Assuming 'model' is your trained XGBoost model\n",
    "xgb.plot_importance(model)\n",
    "plt.title('Feature Importance')\n",
    "plt.show()\n"
   ]
  },
  {
   "cell_type": "code",
   "execution_count": 52,
   "metadata": {},
   "outputs": [
    {
     "data": {
      "image/png": "[encoded data removed]",
      "text/plain": [
       "<Figure size 640x480 with 1 Axes>"
      ]
     },
     "metadata": {},
     "output_type": "display_data"
    }
   ],
   "source": [
    "residuals = y_test - predictions\n",
    "plt.scatter(predictions, residuals)\n",
    "plt.hlines(y=0, xmin=predictions.min(), xmax=predictions.max(), colors='red')\n",
    "plt.title('Residual Plot')\n",
    "plt.xlabel('Predicted Values')\n",
    "plt.ylabel('Residuals')\n",
    "plt.show()\n"
   ]
  },
  {
   "cell_type": "code",
   "execution_count": 53,
   "metadata": {},
   "outputs": [
    {
     "data": {
      "image/png": "[encoded data removed]",
      "text/plain": [
       "<Figure size 1000x600 with 1 Axes>"
      ]
     },
     "metadata": {},
     "output_type": "display_data"
    }
   ],
   "source": [
    "# Assuming `predictions` are stored in `predictions` and `y_test` are the actual values\n",
    "plt.figure(figsize=(10, 6))\n",
    "plt.scatter(y_test, predictions, alpha=0.5)\n",
    "plt.title('Actual vs. Predicted Green Times')\n",
    "plt.xlabel('Actual Green Time (seconds)')\n",
    "plt.ylabel('Predicted Green Time (seconds)')\n",
    "plt.plot([y_test.min(), y_test.max()], [y_test.min(), y_test.max()], 'k--', lw=4)\n",
    "plt.show()\n"
   ]
  },
  {
   "cell_type": "code",
   "execution_count": 54,
   "metadata": {},
   "outputs": [
    {
     "data": {
      "image/png": "[encoded data removed]",
      "text/plain": [
       "<Figure size 1000x600 with 1 Axes>"
      ]
     },
     "metadata": {},
     "output_type": "display_data"
    }
   ],
   "source": [
    "plt.figure(figsize=(10, 6))\n",
    "plt.hist(y_test, bins=20, alpha=0.5, label='Actual')\n",
    "plt.hist(predictions, bins=20, alpha=0.5, label='Predicted')\n",
    "plt.title('Distribution of Actual vs. Predicted Green Times')\n",
    "plt.xlabel('Green Time (seconds)')\n",
    "plt.ylabel('Frequency')\n",
    "plt.legend()\n",
    "plt.show()\n"
   ]
  },
  {
   "cell_type": "code",
   "execution_count": 55,
   "metadata": {},
   "outputs": [
    {
     "data": {
      "application/vnd.plotly.v1+json": {
       "config": {
        "plotlyServerURL": "https://plot.ly"
       },
       "data": [
        {
         "hovertemplate": "Actual Green Time=%{x}<br>Predicted Green Time=%{y}<extra></extra>",
         "legendgroup": "",
         "marker": {
          "color": "#636efa",
          "symbol": "circle"
         },
         "mode": "markers",
         "name": "",
         "orientation": "v",
         "showlegend": false,
         "type": "scatter",
         "x": [
          15,
          23,
          40,
          31,
          23,
          10,
          44,
          5,
          35,
          19,
          43,
          50,
          43,
          25,
          38,
          27,
          5,
          48,
          50,
          50,
          50,
          27,
          9,
          47,
          50,
          50,
          50,
          50,
          47,
          35,
          10,
          28,
          42,
          50,
          50,
          50,
          50,
          50,
          50,
          27,
          17,
          31,
          22,
          47,
          50,
          50,
          42,
          25,
          10,
          44,
          27,
          21,
          27,
          20,
          20,
          18,
          19,
          30,
          47,
          50,
          50,
          50,
          48,
          48,
          48,
          50,
          48,
          50,
          50,
          50,
          50,
          50,
          50,
          50,
          50,
          50,
          50,
          3,
          8,
          42,
          34,
          50,
          50,
          50,
          49,
          3,
          3,
          46,
          48,
          18,
          33,
          40,
          48,
          4,
          38,
          6,
          24,
          23,
          45,
          41,
          45,
          37,
          50,
          50,
          44,
          26,
          26,
          6,
          16,
          29,
          41,
          10,
          29,
          25,
          30,
          50,
          20,
          50,
          10,
          11,
          12,
          10,
          20,
          25,
          50,
          50,
          48,
          45,
          36,
          8,
          8,
          24,
          50,
          50,
          18,
          3,
          50,
          50,
          50,
          47,
          50,
          37,
          3,
          15,
          30,
          50,
          31,
          39,
          17,
          33,
          34,
          26,
          25,
          3,
          28,
          22,
          50,
          30,
          17,
          19,
          27,
          24,
          20,
          50,
          46,
          27,
          23,
          42,
          5,
          50,
          48,
          44,
          50,
          50,
          6,
          39,
          3,
          26,
          42,
          3,
          50,
          50,
          27,
          50,
          25,
          4,
          17,
          10,
          41,
          50,
          50,
          12,
          28,
          3,
          41,
          35,
          50,
          50,
          50,
          25,
          27,
          50,
          47,
          3,
          50,
          18,
          25,
          49,
          39,
          41,
          22,
          9,
          14,
          6,
          50,
          16
         ],
         "xaxis": "x",
         "y": [
          15.353482246398926,
          23.580629348754883,
          40.37553787231445,
          30.797574996948242,
          23.642637252807617,
          10.16567611694336,
          44.06386184692383,
          5.633485317230225,
          34.95840072631836,
          18.624942779541016,
          43.03226089477539,
          49.87069320678711,
          43.050811767578125,
          25.234909057617188,
          38.13909149169922,
          26.94788932800293,
          5.208791255950928,
          47.964717864990234,
          49.87069320678711,
          49.738956451416016,
          49.513553619384766,
          27.91322135925293,
          9.481884002685547,
          46.947975158691406,
          49.738956451416016,
          49.87069320678711,
          49.863136291503906,
          49.863136291503906,
          47.1252555847168,
          35.46503448486328,
          10.055821418762207,
          27.992870330810547,
          41.97566604614258,
          49.87069320678711,
          49.87069320678711,
          49.863136291503906,
          49.738956451416016,
          49.738956451416016,
          49.60615921020508,
          28.996902465820312,
          18.044025421142578,
          30.927841186523438,
          22.451251983642578,
          46.91204833984375,
          49.87069320678711,
          49.863136291503906,
          42.47193145751953,
          24.92595672607422,
          10.071769714355469,
          44.01950454711914,
          27.720230102539062,
          21.32663917541504,
          27.19699478149414,
          19.7467041015625,
          19.584728240966797,
          18.22752571105957,
          19.789539337158203,
          30.48790740966797,
          47.31222152709961,
          49.87069320678711,
          49.863136291503906,
          49.60615921020508,
          48.04353713989258,
          47.92578887939453,
          47.96771240234375,
          49.81200408935547,
          47.95069122314453,
          49.87069320678711,
          49.59850311279297,
          49.87069320678711,
          49.81200408935547,
          49.863136291503906,
          49.87069320678711,
          49.863136291503906,
          49.46226501464844,
          49.863136291503906,
          49.81752395629883,
          4.667547702789307,
          8.77342414855957,
          42.047149658203125,
          33.94388198852539,
          49.77586364746094,
          49.87069320678711,
          49.736228942871094,
          33.36103820800781,
          3.6755805015563965,
          3.5417938232421875,
          46.21664047241211,
          47.98646926879883,
          18.25446319580078,
          32.634132385253906,
          39.68112564086914,
          47.98646926879883,
          4.460200309753418,
          38.047508239746094,
          6.22687292098999,
          23.458194732666016,
          23.185565948486328,
          44.968544006347656,
          41.13728713989258,
          44.768157958984375,
          37.43137741088867,
          49.862369537353516,
          49.87069320678711,
          42.42113494873047,
          26.505590438842773,
          26.418249130249023,
          6.483842372894287,
          16.073379516601562,
          29.341262817382812,
          40.950828552246094,
          10.23245620727539,
          29.401103973388672,
          25.09832191467285,
          30.806371688842773,
          49.83926773071289,
          20.58043670654297,
          49.842567443847656,
          8.668685913085938,
          11.408870697021484,
          12.775352478027344,
          10.504070281982422,
          19.672388076782227,
          25.237682342529297,
          49.861324310302734,
          48.9614143371582,
          46.81205368041992,
          44.78961181640625,
          36.412872314453125,
          8.670661926269531,
          8.679242134094238,
          23.505260467529297,
          49.861324310302734,
          47.00655746459961,
          12.84679126739502,
          3.5417938232421875,
          49.842567443847656,
          49.64596939086914,
          49.64596939086914,
          30.467086791992188,
          49.862369537353516,
          40.89896774291992,
          3.55997371673584,
          14.461576461791992,
          31.656238555908203,
          49.724220275878906,
          29.93538475036621,
          39.131752014160156,
          17.883926391601562,
          32.975284576416016,
          33.89794158935547,
          22.079381942749023,
          25.093055725097656,
          3.401618480682373,
          28.047161102294922,
          22.241718292236328,
          49.861324310302734,
          28.823654174804688,
          17.04647445678711,
          18.63666343688965,
          26.973880767822266,
          23.420438766479492,
          19.751949310302734,
          49.861324310302734,
          43.60091018676758,
          27.782554626464844,
          22.886878967285156,
          42.395626068115234,
          4.8810505867004395,
          49.842567443847656,
          46.30390167236328,
          43.80963134765625,
          49.87069320678711,
          49.87069320678711,
          6.031885147094727,
          39.314449310302734,
          3.4255590438842773,
          26.349544525146484,
          41.97552490234375,
          3.4624884128570557,
          49.842567443847656,
          50.02488327026367,
          22.13210678100586,
          49.87069320678711,
          24.563365936279297,
          4.322595596313477,
          18.033367156982422,
          10.101875305175781,
          41.102088928222656,
          49.81200408935547,
          49.656532287597656,
          11.41983413696289,
          27.96666145324707,
          3.5921270847320557,
          41.09282684326172,
          35.215145111083984,
          49.81200408935547,
          49.87069320678711,
          49.851173400878906,
          10.366070747375488,
          27.26751708984375,
          49.861324310302734,
          43.76777267456055,
          3.4255590438842773,
          49.82643127441406,
          19.796154022216797,
          25.249011993408203,
          49.03361892700195,
          40.104026794433594,
          41.07073974609375,
          22.322906494140625,
          9.73516845703125,
          14.346016883850098,
          6.060886859893799,
          49.861324310302734,
          20.072509765625
         ],
         "yaxis": "y"
        }
       ],
       "layout": {
        "legend": {
         "tracegroupgap": 0
        },
        "shapes": [
         {
          "type": "line",
          "x0": 3,
          "x1": 50,
          "y0": 3,
          "y1": 50
         }
        ],
        "template": {
         "data": {
          "bar": [
           {
            "error_x": {
             "color": "#2a3f5f"
            },
            "error_y": {
             "color": "#2a3f5f"
            },
            "marker": {
             "line": {
              "color": "#E5ECF6",
              "width": 0.5
             },
             "pattern": {
              "fillmode": "overlay",
              "size": 10,
              "solidity": 0.2
             }
            },
            "type": "bar"
           }
          ],
          "barpolar": [
           {
            "marker": {
             "line": {
              "color": "#E5ECF6",
              "width": 0.5
             },
             "pattern": {
              "fillmode": "overlay",
              "size": 10,
              "solidity": 0.2
             }
            },
            "type": "barpolar"
           }
          ],
          "carpet": [
           {
            "aaxis": {
             "endlinecolor": "#2a3f5f",
             "gridcolor": "white",
             "linecolor": "white",
             "minorgridcolor": "white",
             "startlinecolor": "#2a3f5f"
            },
            "baxis": {
             "endlinecolor": "#2a3f5f",
             "gridcolor": "white",
             "linecolor": "white",
             "minorgridcolor": "white",
             "startlinecolor": "#2a3f5f"
            },
            "type": "carpet"
           }
          ],
          "choropleth": [
           {
            "colorbar": {
             "outlinewidth": 0,
             "ticks": ""
            },
            "type": "choropleth"
           }
          ],
          "contour": [
           {
            "colorbar": {
             "outlinewidth": 0,
             "ticks": ""
            },
            "colorscale": [
             [
              0,
              "#0d0887"
             ],
             [
              0.1111111111111111,
              "#46039f"
             ],
             [
              0.2222222222222222,
              "#7201a8"
             ],
             [
              0.3333333333333333,
              "#9c179e"
             ],
             [
              0.4444444444444444,
              "#bd3786"
             ],
             [
              0.5555555555555556,
              "#d8576b"
             ],
             [
              0.6666666666666666,
              "#ed7953"
             ],
             [
              0.7777777777777778,
              "#fb9f3a"
             ],
             [
              0.8888888888888888,
              "#fdca26"
             ],
             [
              1,
              "#f0f921"
             ]
            ],
            "type": "contour"
           }
          ],
          "contourcarpet": [
           {
            "colorbar": {
             "outlinewidth": 0,
             "ticks": ""
            },
            "type": "contourcarpet"
           }
          ],
          "heatmap": [
           {
            "colorbar": {
             "outlinewidth": 0,
             "ticks": ""
            },
            "colorscale": [
             [
              0,
              "#0d0887"
             ],
             [
              0.1111111111111111,
              "#46039f"
             ],
             [
              0.2222222222222222,
              "#7201a8"
             ],
             [
              0.3333333333333333,
              "#9c179e"
             ],
             [
              0.4444444444444444,
              "#bd3786"
             ],
             [
              0.5555555555555556,
              "#d8576b"
             ],
             [
              0.6666666666666666,
              "#ed7953"
             ],
             [
              0.7777777777777778,
              "#fb9f3a"
             ],
             [
              0.8888888888888888,
              "#fdca26"
             ],
             [
              1,
              "#f0f921"
             ]
            ],
            "type": "heatmap"
           }
          ],
          "heatmapgl": [
           {
            "colorbar": {
             "outlinewidth": 0,
             "ticks": ""
            },
            "colorscale": [
             [
              0,
              "#0d0887"
             ],
             [
              0.1111111111111111,
              "#46039f"
             ],
             [
              0.2222222222222222,
              "#7201a8"
             ],
             [
              0.3333333333333333,
              "#9c179e"
             ],
             [
              0.4444444444444444,
              "#bd3786"
             ],
             [
              0.5555555555555556,
              "#d8576b"
             ],
             [
              0.6666666666666666,
              "#ed7953"
             ],
             [
              0.7777777777777778,
              "#fb9f3a"
             ],
             [
              0.8888888888888888,
              "#fdca26"
             ],
             [
              1,
              "#f0f921"
             ]
            ],
            "type": "heatmapgl"
           }
          ],
          "histogram": [
           {
            "marker": {
             "pattern": {
              "fillmode": "overlay",
              "size": 10,
              "solidity": 0.2
             }
            },
            "type": "histogram"
           }
          ],
          "histogram2d": [
           {
            "colorbar": {
             "outlinewidth": 0,
             "ticks": ""
            },
            "colorscale": [
             [
              0,
              "#0d0887"
             ],
             [
              0.1111111111111111,
              "#46039f"
             ],
             [
              0.2222222222222222,
              "#7201a8"
             ],
             [
              0.3333333333333333,
              "#9c179e"
             ],
             [
              0.4444444444444444,
              "#bd3786"
             ],
             [
              0.5555555555555556,
              "#d8576b"
             ],
             [
              0.6666666666666666,
              "#ed7953"
             ],
             [
              0.7777777777777778,
              "#fb9f3a"
             ],
             [
              0.8888888888888888,
              "#fdca26"
             ],
             [
              1,
              "#f0f921"
             ]
            ],
            "type": "histogram2d"
           }
          ],
          "histogram2dcontour": [
           {
            "colorbar": {
             "outlinewidth": 0,
             "ticks": ""
            },
            "colorscale": [
             [
              0,
              "#0d0887"
             ],
             [
              0.1111111111111111,
              "#46039f"
             ],
             [
              0.2222222222222222,
              "#7201a8"
             ],
             [
              0.3333333333333333,
              "#9c179e"
             ],
             [
              0.4444444444444444,
              "#bd3786"
             ],
             [
              0.5555555555555556,
              "#d8576b"
             ],
             [
              0.6666666666666666,
              "#ed7953"
             ],
             [
              0.7777777777777778,
              "#fb9f3a"
             ],
             [
              0.8888888888888888,
              "#fdca26"
             ],
             [
              1,
              "#f0f921"
             ]
            ],
            "type": "histogram2dcontour"
           }
          ],
          "mesh3d": [
           {
            "colorbar": {
             "outlinewidth": 0,
             "ticks": ""
            },
            "type": "mesh3d"
           }
          ],
          "parcoords": [
           {
            "line": {
             "colorbar": {
              "outlinewidth": 0,
              "ticks": ""
             }
            },
            "type": "parcoords"
           }
          ],
          "pie": [
           {
            "automargin": true,
            "type": "pie"
           }
          ],
          "scatter": [
           {
            "fillpattern": {
             "fillmode": "overlay",
             "size": 10,
             "solidity": 0.2
            },
            "type": "scatter"
           }
          ],
          "scatter3d": [
           {
            "line": {
             "colorbar": {
              "outlinewidth": 0,
              "ticks": ""
             }
            },
            "marker": {
             "colorbar": {
              "outlinewidth": 0,
              "ticks": ""
             }
            },
            "type": "scatter3d"
           }
          ],
          "scattercarpet": [
           {
            "marker": {
             "colorbar": {
              "outlinewidth": 0,
              "ticks": ""
             }
            },
            "type": "scattercarpet"
           }
          ],
          "scattergeo": [
           {
            "marker": {
             "colorbar": {
              "outlinewidth": 0,
              "ticks": ""
             }
            },
            "type": "scattergeo"
           }
          ],
          "scattergl": [
           {
            "marker": {
             "colorbar": {
              "outlinewidth": 0,
              "ticks": ""
             }
            },
            "type": "scattergl"
           }
          ],
          "scattermapbox": [
           {
            "marker": {
             "colorbar": {
              "outlinewidth": 0,
              "ticks": ""
             }
            },
            "type": "scattermapbox"
           }
          ],
          "scatterpolar": [
           {
            "marker": {
             "colorbar": {
              "outlinewidth": 0,
              "ticks": ""
             }
            },
            "type": "scatterpolar"
           }
          ],
          "scatterpolargl": [
           {
            "marker": {
             "colorbar": {
              "outlinewidth": 0,
              "ticks": ""
             }
            },
            "type": "scatterpolargl"
           }
          ],
          "scatterternary": [
           {
            "marker": {
             "colorbar": {
              "outlinewidth": 0,
              "ticks": ""
             }
            },
            "type": "scatterternary"
           }
          ],
          "surface": [
           {
            "colorbar": {
             "outlinewidth": 0,
             "ticks": ""
            },
            "colorscale": [
             [
              0,
              "#0d0887"
             ],
             [
              0.1111111111111111,
              "#46039f"
             ],
             [
              0.2222222222222222,
              "#7201a8"
             ],
             [
              0.3333333333333333,
              "#9c179e"
             ],
             [
              0.4444444444444444,
              "#bd3786"
             ],
             [
              0.5555555555555556,
              "#d8576b"
             ],
             [
              0.6666666666666666,
              "#ed7953"
             ],
             [
              0.7777777777777778,
              "#fb9f3a"
             ],
             [
              0.8888888888888888,
              "#fdca26"
             ],
             [
              1,
              "#f0f921"
             ]
            ],
            "type": "surface"
           }
          ],
          "table": [
           {
            "cells": {
             "fill": {
              "color": "#EBF0F8"
             },
             "line": {
              "color": "white"
             }
            },
            "header": {
             "fill": {
              "color": "#C8D4E3"
             },
             "line": {
              "color": "white"
             }
            },
            "type": "table"
           }
          ]
         },
         "layout": {
          "annotationdefaults": {
           "arrowcolor": "#2a3f5f",
           "arrowhead": 0,
           "arrowwidth": 1
          },
          "autotypenumbers": "strict",
          "coloraxis": {
           "colorbar": {
            "outlinewidth": 0,
            "ticks": ""
           }
          },
          "colorscale": {
           "diverging": [
            [
             0,
             "#8e0152"
            ],
            [
             0.1,
             "#c51b7d"
            ],
            [
             0.2,
             "#de77ae"
            ],
            [
             0.3,
             "#f1b6da"
            ],
            [
             0.4,
             "#fde0ef"
            ],
            [
             0.5,
             "#f7f7f7"
            ],
            [
             0.6,
             "#e6f5d0"
            ],
            [
             0.7,
             "#b8e186"
            ],
            [
             0.8,
             "#7fbc41"
            ],
            [
             0.9,
             "#4d9221"
            ],
            [
             1,
             "#276419"
            ]
           ],
           "sequential": [
            [
             0,
             "#0d0887"
            ],
            [
             0.1111111111111111,
             "#46039f"
            ],
            [
             0.2222222222222222,
             "#7201a8"
            ],
            [
             0.3333333333333333,
             "#9c179e"
            ],
            [
             0.4444444444444444,
             "#bd3786"
            ],
            [
             0.5555555555555556,
             "#d8576b"
            ],
            [
             0.6666666666666666,
             "#ed7953"
            ],
            [
             0.7777777777777778,
             "#fb9f3a"
            ],
            [
             0.8888888888888888,
             "#fdca26"
            ],
            [
             1,
             "#f0f921"
            ]
           ],
           "sequentialminus": [
            [
             0,
             "#0d0887"
            ],
            [
             0.1111111111111111,
             "#46039f"
            ],
            [
             0.2222222222222222,
             "#7201a8"
            ],
            [
             0.3333333333333333,
             "#9c179e"
            ],
            [
             0.4444444444444444,
             "#bd3786"
            ],
            [
             0.5555555555555556,
             "#d8576b"
            ],
            [
             0.6666666666666666,
             "#ed7953"
            ],
            [
             0.7777777777777778,
             "#fb9f3a"
            ],
            [
             0.8888888888888888,
             "#fdca26"
            ],
            [
             1,
             "#f0f921"
            ]
           ]
          },
          "colorway": [
           "#636efa",
           "#EF553B",
           "#00cc96",
           "#ab63fa",
           "#FFA15A",
           "#19d3f3",
           "#FF6692",
           "#B6E880",
           "#FF97FF",
           "#FECB52"
          ],
          "font": {
           "color": "#2a3f5f"
          },
          "geo": {
           "bgcolor": "white",
           "lakecolor": "white",
           "landcolor": "#E5ECF6",
           "showlakes": true,
           "showland": true,
           "subunitcolor": "white"
          },
          "hoverlabel": {
           "align": "left"
          },
          "hovermode": "closest",
          "mapbox": {
           "style": "light"
          },
          "paper_bgcolor": "white",
          "plot_bgcolor": "#E5ECF6",
          "polar": {
           "angularaxis": {
            "gridcolor": "white",
            "linecolor": "white",
            "ticks": ""
           },
           "bgcolor": "#E5ECF6",
           "radialaxis": {
            "gridcolor": "white",
            "linecolor": "white",
            "ticks": ""
           }
          },
          "scene": {
           "xaxis": {
            "backgroundcolor": "#E5ECF6",
            "gridcolor": "white",
            "gridwidth": 2,
            "linecolor": "white",
            "showbackground": true,
            "ticks": "",
            "zerolinecolor": "white"
           },
           "yaxis": {
            "backgroundcolor": "#E5ECF6",
            "gridcolor": "white",
            "gridwidth": 2,
            "linecolor": "white",
            "showbackground": true,
            "ticks": "",
            "zerolinecolor": "white"
           },
           "zaxis": {
            "backgroundcolor": "#E5ECF6",
            "gridcolor": "white",
            "gridwidth": 2,
            "linecolor": "white",
            "showbackground": true,
            "ticks": "",
            "zerolinecolor": "white"
           }
          },
          "shapedefaults": {
           "line": {
            "color": "#2a3f5f"
           }
          },
          "ternary": {
           "aaxis": {
            "gridcolor": "white",
            "linecolor": "white",
            "ticks": ""
           },
           "baxis": {
            "gridcolor": "white",
            "linecolor": "white",
            "ticks": ""
           },
           "bgcolor": "#E5ECF6",
           "caxis": {
            "gridcolor": "white",
            "linecolor": "white",
            "ticks": ""
           }
          },
          "title": {
           "x": 0.05
          },
          "xaxis": {
           "automargin": true,
           "gridcolor": "white",
           "linecolor": "white",
           "ticks": "",
           "title": {
            "standoff": 15
           },
           "zerolinecolor": "white",
           "zerolinewidth": 2
          },
          "yaxis": {
           "automargin": true,
           "gridcolor": "white",
           "linecolor": "white",
           "ticks": "",
           "title": {
            "standoff": 15
           },
           "zerolinecolor": "white",
           "zerolinewidth": 2
          }
         }
        },
        "title": {
         "text": "Actual vs Predicted Green Times"
        },
        "xaxis": {
         "anchor": "y",
         "domain": [
          0,
          1
         ],
         "title": {
          "text": "Actual Green Time"
         }
        },
        "yaxis": {
         "anchor": "x",
         "domain": [
          0,
          1
         ],
         "title": {
          "text": "Predicted Green Time"
         }
        }
       }
      }
     },
     "metadata": {},
     "output_type": "display_data"
    }
   ],
   "source": [
    "import plotly.express as px\n",
    "\n",
    "fig = px.scatter(x=y_test, y=predictions, labels={'x': 'Actual Green Time', 'y': 'Predicted Green Time'},\n",
    "                 title='Actual vs Predicted Green Times')\n",
    "fig.add_shape(type='line', x0=y_test.min(), y0=y_test.min(), x1=y_test.max(), y1=y_test.max())\n",
    "fig.show()\n"
   ]
  },
  {
   "cell_type": "code",
   "execution_count": null,
   "metadata": {},
   "outputs": [],
   "source": []
  }
 ],
 "metadata": {
  "kernelspec": {
   "display_name": "Python 3",
   "language": "python",
   "name": "python3"
  },
  "language_info": {
   "codemirror_mode": {
    "name": "ipython",
    "version": 3
   },
   "file_extension": ".py",
   "mimetype": "text/x-python",
   "name": "python",
   "nbconvert_exporter": "python",
   "pygments_lexer": "ipython3",
   "version": "3.10.6"
  }
 },
 "nbformat": 4,
 "nbformat_minor": 2
}
