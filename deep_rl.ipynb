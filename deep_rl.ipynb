{
 "cells": [
  {
   "cell_type": "code",
   "execution_count": 759,
   "metadata": {},
   "outputs": [],
   "source": [
    "import pandas as pd\n",
    "\n",
    "# Load JSON data into a DataFrame\n",
    "df = pd.read_json('merged_sorted_intersections_ahmad.json')"
   ]
  },
  {
   "cell_type": "markdown",
   "metadata": {},
   "source": [
    "FEATURE ENGINEERING AND EXRTACTION"
   ]
  },
  {
   "cell_type": "code",
   "execution_count": 760,
   "metadata": {},
   "outputs": [],
   "source": [
    "# categorize trafficIDs from strings that contain letters and numbers to just numbers\n",
    "df['trafficID'] = df['trafficID'].astype('category').cat.codes"
   ]
  },
  {
   "cell_type": "code",
   "execution_count": 761,
   "metadata": {},
   "outputs": [],
   "source": [
    "# Convert timestamps to datetime if they aren't already\n",
    "df['timeStamp'] = pd.to_datetime(df['timeStamp'])\n",
    "\n",
    "# Extract date and time components\n",
    "df['hour'] = df['timeStamp'].dt.hour\n",
    "df['minute'] = df['timeStamp'].dt.minute\n",
    "df['second'] = df['timeStamp'].dt.second\n",
    "\n",
    "\n",
    "# Assumption: 70% of cars go forward, 20% turn left, 10% turn right.\n",
    "# These assumptions will be replaced with actual data in the future using sensors.\n",
    "df['forward_flow'] = round(df['num_cars'] * 0.7)\n",
    "df['left_flow'] = round(df['num_cars'] * 0.2)\n",
    "df['right_flow'] = round(df['num_cars'] * 0.1)\n",
    "\n",
    "# Calculate flow ratios for each direction\n",
    "df['forward_flow_ratio'] = df['forward_flow'] / df['num_cars']\n",
    "df['left_flow_ratio'] = df['left_flow'] / df['num_cars']\n",
    "df['right_flow_ratio'] = df['right_flow'] / df['num_cars']\n"
   ]
  },
  {
   "cell_type": "code",
   "execution_count": 762,
   "metadata": {},
   "outputs": [],
   "source": [
    "# Temporal Features based on trafficID\n",
    "df['time_since_last_green'] = df.groupby('trafficID')['timeStamp'].diff().dt.total_seconds().fillna(0)\n",
    "\n",
    "# Average time between green signals\n",
    "df['avg_time_between_greens'] = df.groupby('trafficID')['timeStamp'].diff().dt.total_seconds().groupby(df['trafficID']).transform('mean').fillna(0)"
   ]
  },
  {
   "cell_type": "code",
   "execution_count": 763,
   "metadata": {},
   "outputs": [],
   "source": [
    "# Peak flow is the maximum flow of cars in any direction categorized into  0, 1, 2\n",
    "# 0: forward flow, 1: left flow, 2: right flow\n",
    "df['peak_flow'] = df[['forward_flow', 'left_flow', 'right_flow']].idxmax(axis=1).astype('category').cat.codes\n"
   ]
  },
  {
   "cell_type": "code",
   "execution_count": 764,
   "metadata": {},
   "outputs": [],
   "source": [
    "def categorize_time_of_day(hour):\n",
    "    '''Categorize the time of day based on the hour of the day.'''\n",
    "    if 5 <= hour < 12:\n",
    "        return 'Morning'\n",
    "    elif 12 <= hour < 17:\n",
    "        return 'Afternoon'\n",
    "    elif 17 <= hour < 21:\n",
    "        return 'Evening'\n",
    "    else:\n",
    "        return 'Night'\n",
    "\n",
    "df['part_of_day'] = df['hour'].apply(categorize_time_of_day)"
   ]
  },
  {
   "cell_type": "code",
   "execution_count": 765,
   "metadata": {},
   "outputs": [],
   "source": [
    "# Calculate the difference in car count between consecutive time stamps by traffic ID\n",
    "df['car_count_diff'] = df.groupby('trafficID')['num_cars'].diff()"
   ]
  },
  {
   "cell_type": "code",
   "execution_count": 766,
   "metadata": {},
   "outputs": [],
   "source": [
    "# Calculate the exponential moving average of the number of cars\n",
    "df['ema_cars'] = df['num_cars'].ewm(span=10, adjust=False).mean()"
   ]
  },
  {
   "cell_type": "code",
   "execution_count": 767,
   "metadata": {},
   "outputs": [],
   "source": [
    "# Create a columns to indicate whether the day is a weekend or not\n",
    "df['weekday'] = df['timeStamp'].dt.weekday\n",
    "df['is_weekend'] = df['weekday'].apply(lambda x: 1 if x >= 5 else 0)"
   ]
  },
  {
   "cell_type": "code",
   "execution_count": 768,
   "metadata": {},
   "outputs": [],
   "source": [
    "# Create a column to indicate whether the day is a public holiday or not\n",
    "public_holidays = set(['2024-09-23', '2025-02-22']) # Saudi National Day and Founding Day of the Kingdom of Saudi Arabia\n",
    "df['is_public_holiday'] = df['timeStamp'].dt.date.astype(str).isin(public_holidays).astype(int)"
   ]
  },
  {
   "cell_type": "code",
   "execution_count": 769,
   "metadata": {},
   "outputs": [],
   "source": [
    "import numpy as np\n",
    "# Create a column to indicate the time of day as a sin/cos pair\n",
    "period = 7 * 24  # 7 days * 24 hours\n",
    "df['sin_time'] = np.sin(2 * np.pi * df['timeStamp'].dt.hour / period)\n",
    "df['cos_time'] = np.cos(2 * np.pi * df['timeStamp'].dt.hour / period)\n"
   ]
  },
  {
   "cell_type": "code",
   "execution_count": 770,
   "metadata": {},
   "outputs": [
    {
     "name": "stderr",
     "output_type": "stream",
     "text": [
      "C:\\Users\\omars\\AppData\\Local\\Temp\\ipykernel_18236\\909880472.py:2: FutureWarning: A value is trying to be set on a copy of a DataFrame or Series through chained assignment using an inplace method.\n",
      "The behavior will change in pandas 3.0. This inplace method will never work because the intermediate object on which we are setting values always behaves as a copy.\n",
      "\n",
      "For example, when doing 'df[col].method(value, inplace=True)', try using 'df.method({col: value}, inplace=True)' or df[col] = df[col].method(value) instead, to perform the operation inplace on the original object.\n",
      "\n",
      "\n",
      "  df['car_count_diff'].fillna(value=0, inplace=True)\n"
     ]
    }
   ],
   "source": [
    "# Removing NaN values from car_count_diff column and setting them to 0\n",
    "df['car_count_diff'].fillna(value=0, inplace=True)\n",
    "# df['weatherStamp:'].fillna(value=30, inplace=True)"
   ]
  },
  {
   "cell_type": "code",
   "execution_count": 771,
   "metadata": {},
   "outputs": [],
   "source": [
    "# Group by date and trafficID, calculate the mean of the 3 flow directions, then calculate the mean of the 3 flow directions\n",
    "daily_std_dev = df.groupby(['dateStamp', 'trafficID'])[['forward_flow', 'left_flow', 'right_flow']].std().mean(axis=1).reset_index()\n",
    "\n",
    "# Rename the column for clarity\n",
    "daily_std_dev.columns = ['dateStamp', 'trafficID', 'daily_std_dev']\n",
    "\n",
    "# Merge the daily standard deviation back to the original DataFrame\n",
    "df = pd.merge(df, daily_std_dev, on=['dateStamp', 'trafficID'])"
   ]
  },
  {
   "cell_type": "code",
   "execution_count": 772,
   "metadata": {},
   "outputs": [],
   "source": [
    "# Data handling before model training\n",
    "# convert timestamp to numeric\n",
    "df['timeStamp_numeric'] = df['timeStamp'].apply(lambda x: x.timestamp())\n",
    "# convert dateStamp from str to datetime then to numeric\n",
    "df['dateStamp'] = pd.to_datetime(df['dateStamp'])\n",
    "df['dateStamp_numeric'] = df['dateStamp'].apply(lambda x: x.timestamp())\n",
    "# drop the original timestamp and datestamp columns\n",
    "df.drop(['timeStamp', 'dateStamp'], axis=1, inplace=True)"
   ]
  },
  {
   "cell_type": "code",
   "execution_count": 773,
   "metadata": {},
   "outputs": [],
   "source": [
    "# change part_of_day to categories and then to numeric\n",
    "df['part_of_day'] = df['part_of_day'].astype('category').cat.codes  # convert to numeric"
   ]
  },
  {
   "cell_type": "code",
   "execution_count": 774,
   "metadata": {},
   "outputs": [],
   "source": [
    "# Dropping unneeded columns\n",
    "# Drop hour, min, second\n",
    "df.drop(['hour', 'minute', 'second'], axis=1, inplace=True)\n",
    "\n",
    "# drop flow ratios\n",
    "df.drop(['forward_flow_ratio', 'left_flow_ratio', 'right_flow_ratio'], axis=1, inplace=True)\n",
    "\n",
    "# drop timeStamp_numeric\n",
    "df.drop(['timeStamp_numeric'], axis=1, inplace=True)\n",
    "\n",
    "# drop weatherStamp:\n",
    "df.drop(['weatherStamp:'], axis=1, inplace=True)\n",
    "\n"
   ]
  },
  {
   "cell_type": "code",
   "execution_count": 775,
   "metadata": {},
   "outputs": [],
   "source": [
    "# Convert all str columns in df to numeric (float)\n",
    "for col in df.columns:\n",
    "    if df[col].dtype == 'str':\n",
    "        df[col] = pd.to_numeric(df[col], errors='coerce', inplace=True)"
   ]
  },
  {
   "cell_type": "code",
   "execution_count": 776,
   "metadata": {},
   "outputs": [
    {
     "data": {
      "text/plain": [
       "Index(['trafficID', 'num_cars', 'greenTime', 'forward_flow', 'left_flow',\n",
       "       'right_flow', 'time_since_last_green', 'avg_time_between_greens',\n",
       "       'peak_flow', 'part_of_day', 'car_count_diff', 'ema_cars', 'weekday',\n",
       "       'is_weekend', 'is_public_holiday', 'sin_time', 'cos_time',\n",
       "       'daily_std_dev', 'dateStamp_numeric'],\n",
       "      dtype='object')"
      ]
     },
     "execution_count": 776,
     "metadata": {},
     "output_type": "execute_result"
    }
   ],
   "source": [
    "df.columns\n"
   ]
  },
  {
   "cell_type": "code",
   "execution_count": 777,
   "metadata": {},
   "outputs": [
    {
     "data": {
      "text/html": [
       "<div>\n",
       "<style scoped>\n",
       "    .dataframe tbody tr th:only-of-type {\n",
       "        vertical-align: middle;\n",
       "    }\n",
       "\n",
       "    .dataframe tbody tr th {\n",
       "        vertical-align: top;\n",
       "    }\n",
       "\n",
       "    .dataframe thead th {\n",
       "        text-align: right;\n",
       "    }\n",
       "</style>\n",
       "<table border=\"1\" class=\"dataframe\">\n",
       "  <thead>\n",
       "    <tr style=\"text-align: right;\">\n",
       "      <th></th>\n",
       "      <th>trafficID</th>\n",
       "      <th>num_cars</th>\n",
       "      <th>greenTime</th>\n",
       "      <th>forward_flow</th>\n",
       "      <th>left_flow</th>\n",
       "      <th>right_flow</th>\n",
       "      <th>time_since_last_green</th>\n",
       "      <th>avg_time_between_greens</th>\n",
       "      <th>peak_flow</th>\n",
       "      <th>part_of_day</th>\n",
       "      <th>car_count_diff</th>\n",
       "      <th>ema_cars</th>\n",
       "      <th>weekday</th>\n",
       "      <th>is_weekend</th>\n",
       "      <th>is_public_holiday</th>\n",
       "      <th>sin_time</th>\n",
       "      <th>cos_time</th>\n",
       "      <th>daily_std_dev</th>\n",
       "      <th>dateStamp_numeric</th>\n",
       "    </tr>\n",
       "  </thead>\n",
       "  <tbody>\n",
       "    <tr>\n",
       "      <th>0</th>\n",
       "      <td>0</td>\n",
       "      <td>92</td>\n",
       "      <td>46</td>\n",
       "      <td>64.0</td>\n",
       "      <td>18.0</td>\n",
       "      <td>9.0</td>\n",
       "      <td>0.0</td>\n",
       "      <td>137.909091</td>\n",
       "      <td>0</td>\n",
       "      <td>0</td>\n",
       "      <td>0.0</td>\n",
       "      <td>92.000000</td>\n",
       "      <td>2</td>\n",
       "      <td>0</td>\n",
       "      <td>0</td>\n",
       "      <td>0.330279</td>\n",
       "      <td>0.943883</td>\n",
       "      <td>12.676529</td>\n",
       "      <td>1.722298e+09</td>\n",
       "    </tr>\n",
       "    <tr>\n",
       "      <th>1</th>\n",
       "      <td>4</td>\n",
       "      <td>0</td>\n",
       "      <td>3</td>\n",
       "      <td>0.0</td>\n",
       "      <td>0.0</td>\n",
       "      <td>0.0</td>\n",
       "      <td>0.0</td>\n",
       "      <td>31.006667</td>\n",
       "      <td>0</td>\n",
       "      <td>0</td>\n",
       "      <td>0.0</td>\n",
       "      <td>75.272727</td>\n",
       "      <td>2</td>\n",
       "      <td>0</td>\n",
       "      <td>0</td>\n",
       "      <td>0.330279</td>\n",
       "      <td>0.943883</td>\n",
       "      <td>0.000000</td>\n",
       "      <td>1.722298e+09</td>\n",
       "    </tr>\n",
       "    <tr>\n",
       "      <th>2</th>\n",
       "      <td>8</td>\n",
       "      <td>0</td>\n",
       "      <td>3</td>\n",
       "      <td>0.0</td>\n",
       "      <td>0.0</td>\n",
       "      <td>0.0</td>\n",
       "      <td>0.0</td>\n",
       "      <td>32.985816</td>\n",
       "      <td>0</td>\n",
       "      <td>0</td>\n",
       "      <td>0.0</td>\n",
       "      <td>61.586777</td>\n",
       "      <td>2</td>\n",
       "      <td>0</td>\n",
       "      <td>0</td>\n",
       "      <td>0.330279</td>\n",
       "      <td>0.943883</td>\n",
       "      <td>7.798172</td>\n",
       "      <td>1.722298e+09</td>\n",
       "    </tr>\n",
       "    <tr>\n",
       "      <th>3</th>\n",
       "      <td>12</td>\n",
       "      <td>72</td>\n",
       "      <td>36</td>\n",
       "      <td>50.0</td>\n",
       "      <td>14.0</td>\n",
       "      <td>7.0</td>\n",
       "      <td>0.0</td>\n",
       "      <td>148.322581</td>\n",
       "      <td>0</td>\n",
       "      <td>0</td>\n",
       "      <td>0.0</td>\n",
       "      <td>63.480090</td>\n",
       "      <td>2</td>\n",
       "      <td>0</td>\n",
       "      <td>0</td>\n",
       "      <td>0.330279</td>\n",
       "      <td>0.943883</td>\n",
       "      <td>10.611115</td>\n",
       "      <td>1.722298e+09</td>\n",
       "    </tr>\n",
       "    <tr>\n",
       "      <th>4</th>\n",
       "      <td>5</td>\n",
       "      <td>0</td>\n",
       "      <td>3</td>\n",
       "      <td>0.0</td>\n",
       "      <td>0.0</td>\n",
       "      <td>0.0</td>\n",
       "      <td>0.0</td>\n",
       "      <td>31.006667</td>\n",
       "      <td>0</td>\n",
       "      <td>0</td>\n",
       "      <td>0.0</td>\n",
       "      <td>51.938256</td>\n",
       "      <td>2</td>\n",
       "      <td>0</td>\n",
       "      <td>0</td>\n",
       "      <td>0.330279</td>\n",
       "      <td>0.943883</td>\n",
       "      <td>7.527539</td>\n",
       "      <td>1.722298e+09</td>\n",
       "    </tr>\n",
       "  </tbody>\n",
       "</table>\n",
       "</div>"
      ],
      "text/plain": [
       "   trafficID  num_cars  greenTime  forward_flow  left_flow  right_flow  \\\n",
       "0          0        92         46          64.0       18.0         9.0   \n",
       "1          4         0          3           0.0        0.0         0.0   \n",
       "2          8         0          3           0.0        0.0         0.0   \n",
       "3         12        72         36          50.0       14.0         7.0   \n",
       "4          5         0          3           0.0        0.0         0.0   \n",
       "\n",
       "   time_since_last_green  avg_time_between_greens  peak_flow  part_of_day  \\\n",
       "0                    0.0               137.909091          0            0   \n",
       "1                    0.0                31.006667          0            0   \n",
       "2                    0.0                32.985816          0            0   \n",
       "3                    0.0               148.322581          0            0   \n",
       "4                    0.0                31.006667          0            0   \n",
       "\n",
       "   car_count_diff   ema_cars  weekday  is_weekend  is_public_holiday  \\\n",
       "0             0.0  92.000000        2           0                  0   \n",
       "1             0.0  75.272727        2           0                  0   \n",
       "2             0.0  61.586777        2           0                  0   \n",
       "3             0.0  63.480090        2           0                  0   \n",
       "4             0.0  51.938256        2           0                  0   \n",
       "\n",
       "   sin_time  cos_time  daily_std_dev  dateStamp_numeric  \n",
       "0  0.330279  0.943883      12.676529       1.722298e+09  \n",
       "1  0.330279  0.943883       0.000000       1.722298e+09  \n",
       "2  0.330279  0.943883       7.798172       1.722298e+09  \n",
       "3  0.330279  0.943883      10.611115       1.722298e+09  \n",
       "4  0.330279  0.943883       7.527539       1.722298e+09  "
      ]
     },
     "execution_count": 777,
     "metadata": {},
     "output_type": "execute_result"
    }
   ],
   "source": [
    "df.head()"
   ]
  },
  {
   "cell_type": "code",
   "execution_count": 778,
   "metadata": {},
   "outputs": [
    {
     "name": "stdout",
     "output_type": "stream",
     "text": [
      "trafficID: int8\n",
      "num_cars: int64\n",
      "greenTime: int64\n",
      "forward_flow: float64\n",
      "left_flow: float64\n",
      "right_flow: float64\n",
      "time_since_last_green: float64\n",
      "avg_time_between_greens: float64\n",
      "peak_flow: int8\n",
      "part_of_day: int8\n",
      "car_count_diff: float64\n",
      "ema_cars: float64\n",
      "weekday: int32\n",
      "is_weekend: int64\n",
      "is_public_holiday: int32\n",
      "sin_time: float64\n",
      "cos_time: float64\n",
      "daily_std_dev: float64\n",
      "dateStamp_numeric: float64\n"
     ]
    }
   ],
   "source": [
    "for col in df.columns:\n",
    "    print(f\"{col}: {df[col].dtype}\")"
   ]
  },
  {
   "cell_type": "code",
   "execution_count": 779,
   "metadata": {},
   "outputs": [],
   "source": [
    "# replace Nans with 0 and inf with 1e9\n",
    "df.fillna(0, inplace=True)"
   ]
  },
  {
   "cell_type": "markdown",
   "metadata": {},
   "source": [
    "Normalization"
   ]
  },
  {
   "cell_type": "code",
   "execution_count": 780,
   "metadata": {},
   "outputs": [],
   "source": [
    "# Prepare the scaler\n",
    "scaler = StandardScaler()\n",
    "\n",
    "# Define columns to be scaled\n",
    "columns_to_normalize = ['num_cars', 'daily_std_dev', 'time_since_last_green', 'avg_time_between_greens', 'ema_cars', 'car_count_diff', 'forward_flow', 'left_flow', 'right_flow']\n",
    "\n",
    "# Normalize these columns\n",
    "df[columns_to_normalize] = scaler.fit_transform(df[columns_to_normalize])\n"
   ]
  },
  {
   "cell_type": "markdown",
   "metadata": {},
   "source": [
    "MODEL TESTING/BUILDING"
   ]
  },
  {
   "cell_type": "markdown",
   "metadata": {},
   "source": [
    "Simple RandomForestRegressor"
   ]
  },
  {
   "cell_type": "code",
   "execution_count": 787,
   "metadata": {},
   "outputs": [
    {
     "name": "stdout",
     "output_type": "stream",
     "text": [
      "Root Mean Squared Error: 2.559771965914643\n"
     ]
    }
   ],
   "source": [
    "from sklearn.ensemble import RandomForestRegressor\n",
    "from sklearn.metrics import mean_squared_error\n",
    "import numpy as np\n",
    "\n",
    "# Assuming you have already prepared X_train, X_test, y_train, y_test\n",
    "model = RandomForestRegressor(n_estimators=100, random_state=42)\n",
    "model.fit(X_train, y_train)\n",
    "\n",
    "# Predictions\n",
    "predictions = model.predict(X_test)\n",
    "rmse = np.sqrt(mean_squared_error(y_test, predictions))\n",
    "print(\"Root Mean Squared Error:\", rmse)\n"
   ]
  },
  {
   "cell_type": "code",
   "execution_count": 788,
   "metadata": {},
   "outputs": [
    {
     "name": "stdout",
     "output_type": "stream",
     "text": [
      "Collecting xgboostNote: you may need to restart the kernel to use updated packages.\n",
      "\n",
      "  Downloading xgboost-2.1.1-py3-none-win_amd64.whl.metadata (2.1 kB)\n",
      "Requirement already satisfied: numpy in c:\\users\\omars\\appdata\\local\\programs\\python\\python312\\lib\\site-packages (from xgboost) (1.26.4)\n",
      "Requirement already satisfied: scipy in c:\\users\\omars\\appdata\\local\\programs\\python\\python312\\lib\\site-packages (from xgboost) (1.14.0)\n",
      "Downloading xgboost-2.1.1-py3-none-win_amd64.whl (124.9 MB)\n",
      "   ---------------------------------------- 0.0/124.9 MB ? eta -:--:--\n",
      "   ---------------------------------------- 0.5/124.9 MB 4.2 MB/s eta 0:00:30\n",
      "    --------------------------------------- 2.6/124.9 MB 8.4 MB/s eta 0:00:15\n",
      "   - -------------------------------------- 5.0/124.9 MB 9.7 MB/s eta 0:00:13\n",
      "   -- ------------------------------------- 6.8/124.9 MB 9.5 MB/s eta 0:00:13\n",
      "   -- ------------------------------------- 8.9/124.9 MB 9.5 MB/s eta 0:00:13\n",
      "   --- ------------------------------------ 11.0/124.9 MB 9.7 MB/s eta 0:00:12\n",
      "   ---- ----------------------------------- 12.6/124.9 MB 9.4 MB/s eta 0:00:12\n",
      "   ---- ----------------------------------- 13.6/124.9 MB 9.0 MB/s eta 0:00:13\n",
      "   ---- ----------------------------------- 14.9/124.9 MB 8.5 MB/s eta 0:00:13\n",
      "   ----- ---------------------------------- 16.0/124.9 MB 8.3 MB/s eta 0:00:14\n",
      "   ----- ---------------------------------- 17.3/124.9 MB 8.0 MB/s eta 0:00:14\n",
      "   ----- ---------------------------------- 18.4/124.9 MB 7.8 MB/s eta 0:00:14\n",
      "   ------ --------------------------------- 19.7/124.9 MB 7.6 MB/s eta 0:00:14\n",
      "   ------ --------------------------------- 20.7/124.9 MB 7.5 MB/s eta 0:00:14\n",
      "   ------- -------------------------------- 22.0/124.9 MB 7.3 MB/s eta 0:00:15\n",
      "   ------- -------------------------------- 22.8/124.9 MB 7.2 MB/s eta 0:00:15\n",
      "   ------- -------------------------------- 23.9/124.9 MB 7.0 MB/s eta 0:00:15\n",
      "   ------- -------------------------------- 24.9/124.9 MB 6.9 MB/s eta 0:00:15\n",
      "   -------- ------------------------------- 25.7/124.9 MB 6.7 MB/s eta 0:00:15\n",
      "   -------- ------------------------------- 26.7/124.9 MB 6.6 MB/s eta 0:00:15\n",
      "   -------- ------------------------------- 27.8/124.9 MB 6.5 MB/s eta 0:00:15\n",
      "   --------- ------------------------------ 28.6/124.9 MB 6.4 MB/s eta 0:00:15\n",
      "   --------- ------------------------------ 29.1/124.9 MB 6.3 MB/s eta 0:00:16\n",
      "   --------- ------------------------------ 29.4/124.9 MB 6.1 MB/s eta 0:00:16\n",
      "   --------- ------------------------------ 29.6/124.9 MB 5.9 MB/s eta 0:00:17\n",
      "   --------- ------------------------------ 29.9/124.9 MB 5.6 MB/s eta 0:00:17\n",
      "   --------- ------------------------------ 29.9/124.9 MB 5.6 MB/s eta 0:00:17\n",
      "   --------- ------------------------------ 30.1/124.9 MB 5.4 MB/s eta 0:00:18\n",
      "   --------- ------------------------------ 30.1/124.9 MB 5.4 MB/s eta 0:00:18\n",
      "   --------- ------------------------------ 30.1/124.9 MB 5.4 MB/s eta 0:00:18\n",
      "   --------- ------------------------------ 30.4/124.9 MB 4.9 MB/s eta 0:00:20\n",
      "   --------- ------------------------------ 30.4/124.9 MB 4.9 MB/s eta 0:00:20\n",
      "   --------- ------------------------------ 30.4/124.9 MB 4.9 MB/s eta 0:00:20\n",
      "   --------- ------------------------------ 30.4/124.9 MB 4.9 MB/s eta 0:00:20\n",
      "   --------- ------------------------------ 30.4/124.9 MB 4.9 MB/s eta 0:00:20\n",
      "   --------- ------------------------------ 30.4/124.9 MB 4.9 MB/s eta 0:00:20\n",
      "   --------- ------------------------------ 30.4/124.9 MB 4.9 MB/s eta 0:00:20\n",
      "   --------- ------------------------------ 30.7/124.9 MB 3.9 MB/s eta 0:00:25\n",
      "   --------- ------------------------------ 30.7/124.9 MB 3.9 MB/s eta 0:00:25\n",
      "   --------- ------------------------------ 30.7/124.9 MB 3.9 MB/s eta 0:00:25\n",
      "   --------- ------------------------------ 30.7/124.9 MB 3.9 MB/s eta 0:00:25\n",
      "   --------- ------------------------------ 30.7/124.9 MB 3.9 MB/s eta 0:00:25\n",
      "   --------- ------------------------------ 30.9/124.9 MB 3.5 MB/s eta 0:00:27\n",
      "   --------- ------------------------------ 30.9/124.9 MB 3.5 MB/s eta 0:00:27\n",
      "   --------- ------------------------------ 31.2/124.9 MB 3.4 MB/s eta 0:00:28\n",
      "   --------- ------------------------------ 31.2/124.9 MB 3.4 MB/s eta 0:00:28\n",
      "   --------- ------------------------------ 31.2/124.9 MB 3.4 MB/s eta 0:00:28\n",
      "   ---------- ----------------------------- 31.5/124.9 MB 3.2 MB/s eta 0:00:30\n",
      "   ---------- ----------------------------- 31.5/124.9 MB 3.2 MB/s eta 0:00:30\n",
      "   ---------- ----------------------------- 31.5/124.9 MB 3.2 MB/s eta 0:00:30\n",
      "   ---------- ----------------------------- 31.5/124.9 MB 3.2 MB/s eta 0:00:30\n",
      "   ---------- ----------------------------- 31.7/124.9 MB 2.9 MB/s eta 0:00:32\n",
      "   ---------- ----------------------------- 31.7/124.9 MB 2.9 MB/s eta 0:00:32\n",
      "   ---------- ----------------------------- 31.7/124.9 MB 2.9 MB/s eta 0:00:32\n",
      "   ---------- ----------------------------- 32.0/124.9 MB 2.8 MB/s eta 0:00:34\n",
      "   ---------- ----------------------------- 32.0/124.9 MB 2.8 MB/s eta 0:00:34\n",
      "   ---------- ----------------------------- 32.0/124.9 MB 2.8 MB/s eta 0:00:34\n",
      "   ---------- ----------------------------- 32.2/124.9 MB 2.7 MB/s eta 0:00:35\n",
      "   ---------- ----------------------------- 32.2/124.9 MB 2.7 MB/s eta 0:00:35\n",
      "   ---------- ----------------------------- 32.5/124.9 MB 2.6 MB/s eta 0:00:36\n",
      "   ---------- ----------------------------- 32.5/124.9 MB 2.6 MB/s eta 0:00:36\n",
      "   ---------- ----------------------------- 32.8/124.9 MB 2.5 MB/s eta 0:00:37\n",
      "   ---------- ----------------------------- 32.8/124.9 MB 2.5 MB/s eta 0:00:37\n",
      "   ---------- ----------------------------- 33.0/124.9 MB 2.5 MB/s eta 0:00:37\n",
      "   ---------- ----------------------------- 33.3/124.9 MB 2.5 MB/s eta 0:00:38\n",
      "   ---------- ----------------------------- 33.3/124.9 MB 2.5 MB/s eta 0:00:38\n",
      "   ---------- ----------------------------- 33.6/124.9 MB 2.4 MB/s eta 0:00:38\n",
      "   ---------- ----------------------------- 33.8/124.9 MB 2.4 MB/s eta 0:00:39\n",
      "   ---------- ----------------------------- 34.1/124.9 MB 2.4 MB/s eta 0:00:39\n",
      "   ---------- ----------------------------- 34.3/124.9 MB 2.4 MB/s eta 0:00:39\n",
      "   ----------- ---------------------------- 34.6/124.9 MB 2.3 MB/s eta 0:00:39\n",
      "   ----------- ---------------------------- 34.6/124.9 MB 2.3 MB/s eta 0:00:39\n",
      "   ----------- ---------------------------- 34.9/124.9 MB 2.3 MB/s eta 0:00:39\n",
      "   ----------- ---------------------------- 35.1/124.9 MB 2.3 MB/s eta 0:00:40\n",
      "   ----------- ---------------------------- 35.4/124.9 MB 2.3 MB/s eta 0:00:40\n",
      "   ----------- ---------------------------- 35.9/124.9 MB 2.3 MB/s eta 0:00:40\n",
      "   ----------- ---------------------------- 36.2/124.9 MB 2.3 MB/s eta 0:00:40\n",
      "   ----------- ---------------------------- 36.4/124.9 MB 2.2 MB/s eta 0:00:40\n",
      "   ----------- ---------------------------- 36.7/124.9 MB 2.2 MB/s eta 0:00:40\n",
      "   ----------- ---------------------------- 37.0/124.9 MB 2.2 MB/s eta 0:00:40\n",
      "   ----------- ---------------------------- 37.2/124.9 MB 2.2 MB/s eta 0:00:40\n",
      "   ------------ --------------------------- 37.5/124.9 MB 2.2 MB/s eta 0:00:40\n",
      "   ------------ --------------------------- 38.0/124.9 MB 2.2 MB/s eta 0:00:40\n",
      "   ------------ --------------------------- 38.3/124.9 MB 2.2 MB/s eta 0:00:40\n",
      "   ------------ --------------------------- 38.3/124.9 MB 2.2 MB/s eta 0:00:40\n",
      "   ------------ --------------------------- 38.5/124.9 MB 2.2 MB/s eta 0:00:40\n",
      "   ------------ --------------------------- 38.8/124.9 MB 2.1 MB/s eta 0:00:41\n",
      "   ------------ --------------------------- 38.8/124.9 MB 2.1 MB/s eta 0:00:41\n",
      "   ------------ --------------------------- 39.1/124.9 MB 2.1 MB/s eta 0:00:41\n",
      "   ------------ --------------------------- 39.3/124.9 MB 2.1 MB/s eta 0:00:41\n",
      "   ------------ --------------------------- 39.6/124.9 MB 2.1 MB/s eta 0:00:41\n",
      "   ------------ --------------------------- 39.6/124.9 MB 2.1 MB/s eta 0:00:41\n",
      "   ------------ --------------------------- 39.8/124.9 MB 2.1 MB/s eta 0:00:42\n",
      "   ------------ --------------------------- 40.1/124.9 MB 2.1 MB/s eta 0:00:42\n",
      "   ------------ --------------------------- 40.4/124.9 MB 2.1 MB/s eta 0:00:42\n",
      "   ------------- -------------------------- 40.6/124.9 MB 2.0 MB/s eta 0:00:42\n",
      "   ------------- -------------------------- 40.9/124.9 MB 2.0 MB/s eta 0:00:42\n",
      "   ------------- -------------------------- 41.2/124.9 MB 2.0 MB/s eta 0:00:42\n",
      "   ------------- -------------------------- 41.2/124.9 MB 2.0 MB/s eta 0:00:42\n",
      "   ------------- -------------------------- 41.4/124.9 MB 2.0 MB/s eta 0:00:42\n",
      "   ------------- -------------------------- 41.7/124.9 MB 2.0 MB/s eta 0:00:43\n",
      "   ------------- -------------------------- 41.7/124.9 MB 2.0 MB/s eta 0:00:43\n",
      "   ------------- -------------------------- 41.9/124.9 MB 2.0 MB/s eta 0:00:43\n",
      "   ------------- -------------------------- 42.2/124.9 MB 1.9 MB/s eta 0:00:43\n",
      "   ------------- -------------------------- 42.5/124.9 MB 1.9 MB/s eta 0:00:43\n",
      "   ------------- -------------------------- 42.7/124.9 MB 1.9 MB/s eta 0:00:43\n",
      "   ------------- -------------------------- 43.0/124.9 MB 1.9 MB/s eta 0:00:43\n",
      "   ------------- -------------------------- 43.3/124.9 MB 1.9 MB/s eta 0:00:43\n",
      "   ------------- -------------------------- 43.5/124.9 MB 1.9 MB/s eta 0:00:43\n",
      "   -------------- ------------------------- 43.8/124.9 MB 1.9 MB/s eta 0:00:43\n",
      "   -------------- ------------------------- 44.0/124.9 MB 1.9 MB/s eta 0:00:43\n",
      "   -------------- ------------------------- 44.3/124.9 MB 1.9 MB/s eta 0:00:43\n",
      "   -------------- ------------------------- 44.6/124.9 MB 1.9 MB/s eta 0:00:43\n",
      "   -------------- ------------------------- 45.1/124.9 MB 1.9 MB/s eta 0:00:43\n",
      "   -------------- ------------------------- 45.4/124.9 MB 1.9 MB/s eta 0:00:43\n",
      "   -------------- ------------------------- 45.6/124.9 MB 1.9 MB/s eta 0:00:42\n",
      "   -------------- ------------------------- 46.1/124.9 MB 1.9 MB/s eta 0:00:42\n",
      "   -------------- ------------------------- 46.4/124.9 MB 1.9 MB/s eta 0:00:42\n",
      "   --------------- ------------------------ 46.9/124.9 MB 1.9 MB/s eta 0:00:42\n",
      "   --------------- ------------------------ 47.2/124.9 MB 1.9 MB/s eta 0:00:42\n",
      "   --------------- ------------------------ 47.4/124.9 MB 1.9 MB/s eta 0:00:42\n",
      "   --------------- ------------------------ 47.4/124.9 MB 1.9 MB/s eta 0:00:42\n",
      "   --------------- ------------------------ 47.7/124.9 MB 1.9 MB/s eta 0:00:42\n",
      "   --------------- ------------------------ 48.0/124.9 MB 1.9 MB/s eta 0:00:42\n",
      "   --------------- ------------------------ 48.0/124.9 MB 1.9 MB/s eta 0:00:42\n",
      "   --------------- ------------------------ 48.2/124.9 MB 1.8 MB/s eta 0:00:42\n",
      "   --------------- ------------------------ 48.2/124.9 MB 1.8 MB/s eta 0:00:42\n",
      "   --------------- ------------------------ 48.5/124.9 MB 1.8 MB/s eta 0:00:42\n",
      "   --------------- ------------------------ 48.8/124.9 MB 1.8 MB/s eta 0:00:43\n",
      "   --------------- ------------------------ 48.8/124.9 MB 1.8 MB/s eta 0:00:43\n",
      "   --------------- ------------------------ 49.0/124.9 MB 1.8 MB/s eta 0:00:43\n",
      "   --------------- ------------------------ 49.3/124.9 MB 1.8 MB/s eta 0:00:43\n",
      "   --------------- ------------------------ 49.3/124.9 MB 1.8 MB/s eta 0:00:43\n",
      "   --------------- ------------------------ 49.5/124.9 MB 1.8 MB/s eta 0:00:43\n",
      "   --------------- ------------------------ 49.8/124.9 MB 1.8 MB/s eta 0:00:43\n",
      "   ---------------- ----------------------- 50.1/124.9 MB 1.8 MB/s eta 0:00:43\n",
      "   ---------------- ----------------------- 50.3/124.9 MB 1.8 MB/s eta 0:00:43\n",
      "   ---------------- ----------------------- 50.6/124.9 MB 1.8 MB/s eta 0:00:43\n",
      "   ---------------- ----------------------- 50.9/124.9 MB 1.8 MB/s eta 0:00:43\n",
      "   ---------------- ----------------------- 51.1/124.9 MB 1.8 MB/s eta 0:00:43\n",
      "   ---------------- ----------------------- 51.4/124.9 MB 1.8 MB/s eta 0:00:42\n",
      "   ---------------- ----------------------- 51.6/124.9 MB 1.8 MB/s eta 0:00:42\n",
      "   ---------------- ----------------------- 51.9/124.9 MB 1.7 MB/s eta 0:00:42\n",
      "   ---------------- ----------------------- 52.4/124.9 MB 1.7 MB/s eta 0:00:42\n",
      "   ---------------- ----------------------- 52.7/124.9 MB 1.7 MB/s eta 0:00:42\n",
      "   ---------------- ----------------------- 53.0/124.9 MB 1.7 MB/s eta 0:00:43\n",
      "   ----------------- ---------------------- 53.2/124.9 MB 1.6 MB/s eta 0:00:44\n",
      "   ----------------- ---------------------- 53.7/124.9 MB 1.6 MB/s eta 0:00:46\n",
      "   ----------------- ---------------------- 54.0/124.9 MB 1.5 MB/s eta 0:00:47\n",
      "   ----------------- ---------------------- 54.3/124.9 MB 1.5 MB/s eta 0:00:48\n",
      "   ----------------- ---------------------- 54.8/124.9 MB 1.4 MB/s eta 0:00:50\n",
      "   ----------------- ---------------------- 55.1/124.9 MB 1.4 MB/s eta 0:00:51\n",
      "   ----------------- ---------------------- 55.6/124.9 MB 1.3 MB/s eta 0:00:52\n",
      "   ----------------- ---------------------- 55.8/124.9 MB 1.3 MB/s eta 0:00:52\n",
      "   ------------------ --------------------- 56.4/124.9 MB 1.3 MB/s eta 0:00:53\n",
      "   ------------------ --------------------- 56.9/124.9 MB 1.3 MB/s eta 0:00:54\n",
      "   ------------------ --------------------- 57.1/124.9 MB 1.3 MB/s eta 0:00:55\n",
      "   ------------------ --------------------- 57.7/124.9 MB 1.2 MB/s eta 0:00:55\n",
      "   ------------------ --------------------- 58.2/124.9 MB 1.2 MB/s eta 0:00:56\n",
      "   ------------------ --------------------- 58.5/124.9 MB 1.2 MB/s eta 0:00:56\n",
      "   ------------------ --------------------- 59.0/124.9 MB 1.2 MB/s eta 0:00:56\n",
      "   ------------------- -------------------- 59.5/124.9 MB 1.2 MB/s eta 0:00:57\n",
      "   ------------------- -------------------- 60.0/124.9 MB 1.1 MB/s eta 0:00:57\n",
      "   ------------------- -------------------- 60.6/124.9 MB 1.1 MB/s eta 0:00:58\n",
      "   ------------------- -------------------- 61.1/124.9 MB 1.1 MB/s eta 0:00:58\n",
      "   ------------------- -------------------- 61.6/124.9 MB 1.1 MB/s eta 0:00:58\n",
      "   ------------------- -------------------- 62.1/124.9 MB 1.1 MB/s eta 0:00:58\n",
      "   -------------------- ------------------- 62.7/124.9 MB 1.1 MB/s eta 0:00:57\n",
      "   -------------------- ------------------- 63.4/124.9 MB 1.1 MB/s eta 0:00:55\n",
      "   -------------------- ------------------- 64.0/124.9 MB 1.1 MB/s eta 0:00:54\n",
      "   -------------------- ------------------- 64.5/124.9 MB 1.2 MB/s eta 0:00:53\n",
      "   -------------------- ------------------- 65.3/124.9 MB 1.2 MB/s eta 0:00:51\n",
      "   --------------------- ------------------ 66.1/124.9 MB 1.2 MB/s eta 0:00:50\n",
      "   --------------------- ------------------ 66.8/124.9 MB 1.2 MB/s eta 0:00:48\n",
      "   --------------------- ------------------ 67.9/124.9 MB 1.3 MB/s eta 0:00:44\n",
      "   --------------------- ------------------ 68.7/124.9 MB 1.3 MB/s eta 0:00:43\n",
      "   ---------------------- ----------------- 69.7/124.9 MB 1.3 MB/s eta 0:00:41\n",
      "   ---------------------- ----------------- 70.8/124.9 MB 1.4 MB/s eta 0:00:40\n",
      "   ----------------------- ---------------- 71.8/124.9 MB 1.4 MB/s eta 0:00:38\n",
      "   ----------------------- ---------------- 73.1/124.9 MB 1.4 MB/s eta 0:00:37\n",
      "   ----------------------- ---------------- 74.2/124.9 MB 1.5 MB/s eta 0:00:35\n",
      "   ------------------------ --------------- 75.5/124.9 MB 1.5 MB/s eta 0:00:34\n",
      "   ------------------------ --------------- 77.1/124.9 MB 1.6 MB/s eta 0:00:31\n",
      "   ------------------------- -------------- 78.4/124.9 MB 1.6 MB/s eta 0:00:29\n",
      "   ------------------------- -------------- 80.0/124.9 MB 1.7 MB/s eta 0:00:28\n",
      "   -------------------------- ------------- 81.5/124.9 MB 1.7 MB/s eta 0:00:26\n",
      "   -------------------------- ------------- 83.4/124.9 MB 1.8 MB/s eta 0:00:24\n",
      "   --------------------------- ------------ 85.2/124.9 MB 1.8 MB/s eta 0:00:22\n",
      "   --------------------------- ------------ 87.3/124.9 MB 1.9 MB/s eta 0:00:21\n",
      "   ---------------------------- ----------- 89.1/124.9 MB 1.9 MB/s eta 0:00:19\n",
      "   ----------------------------- ---------- 91.5/124.9 MB 2.0 MB/s eta 0:00:17\n",
      "   ----------------------------- ---------- 93.3/124.9 MB 2.1 MB/s eta 0:00:16\n",
      "   ------------------------------ --------- 95.4/124.9 MB 2.2 MB/s eta 0:00:14\n",
      "   ------------------------------- -------- 97.5/124.9 MB 2.2 MB/s eta 0:00:13\n",
      "   ------------------------------- -------- 99.9/124.9 MB 2.3 MB/s eta 0:00:11\n",
      "   -------------------------------- ------- 101.4/124.9 MB 2.3 MB/s eta 0:00:11\n",
      "   --------------------------------- ------ 103.3/124.9 MB 2.4 MB/s eta 0:00:09\n",
      "   --------------------------------- ------ 105.4/124.9 MB 2.5 MB/s eta 0:00:08\n",
      "   ---------------------------------- ----- 107.2/124.9 MB 2.5 MB/s eta 0:00:08\n",
      "   ---------------------------------- ----- 107.7/124.9 MB 2.6 MB/s eta 0:00:07\n",
      "   ---------------------------------- ----- 109.1/124.9 MB 2.6 MB/s eta 0:00:07\n",
      "   ----------------------------------- ---- 110.6/124.9 MB 2.6 MB/s eta 0:00:06\n",
      "   ----------------------------------- ---- 111.9/124.9 MB 2.7 MB/s eta 0:00:05\n",
      "   ------------------------------------ --- 113.5/124.9 MB 2.7 MB/s eta 0:00:05\n",
      "   ------------------------------------ --- 115.1/124.9 MB 2.8 MB/s eta 0:00:04\n",
      "   ------------------------------------- -- 116.9/124.9 MB 2.8 MB/s eta 0:00:03\n",
      "   ------------------------------------- -- 118.5/124.9 MB 2.9 MB/s eta 0:00:03\n",
      "   -------------------------------------- - 119.3/124.9 MB 2.9 MB/s eta 0:00:02\n",
      "   -------------------------------------- - 120.6/124.9 MB 2.9 MB/s eta 0:00:02\n",
      "   -------------------------------------- - 121.4/124.9 MB 3.0 MB/s eta 0:00:02\n",
      "   ---------------------------------------  122.7/124.9 MB 3.0 MB/s eta 0:00:01\n",
      "   ---------------------------------------  124.0/124.9 MB 3.0 MB/s eta 0:00:01\n",
      "   ---------------------------------------  124.8/124.9 MB 3.0 MB/s eta 0:00:01\n",
      "   ---------------------------------------  124.8/124.9 MB 3.0 MB/s eta 0:00:01\n",
      "   ---------------------------------------- 124.9/124.9 MB 3.0 MB/s eta 0:00:00\n",
      "Installing collected packages: xgboost\n",
      "Successfully installed xgboost-2.1.1\n"
     ]
    }
   ],
   "source": [
    "pip install xgboost\n"
   ]
  },
  {
   "cell_type": "code",
   "execution_count": 806,
   "metadata": {},
   "outputs": [
    {
     "name": "stdout",
     "output_type": "stream",
     "text": [
      "Root Mean Squared Error: 1.9493093339663583\n"
     ]
    }
   ],
   "source": [
    "import xgboost as xgb\n",
    "from sklearn.metrics import mean_squared_error\n",
    "import numpy as np\n",
    "\n",
    "# Define the model\n",
    "model = xgb.XGBRegressor(objective ='reg:squarederror', \n",
    "                         colsample_bytree = 0.3, \n",
    "                         learning_rate = 0.1,\n",
    "                         max_depth = 5, \n",
    "                         alpha = 10, \n",
    "                         n_estimators = 10000)\n",
    "\n",
    "# Train the model\n",
    "model.fit(X_train, y_train)\n",
    "\n",
    "# Predictions\n",
    "predictions = model.predict(X_test)\n",
    "\n",
    "# Evaluate the model\n",
    "rmse = np.sqrt(mean_squared_error(y_test, predictions))\n",
    "print(\"Root Mean Squared Error:\", rmse)\n"
   ]
  },
  {
   "cell_type": "code",
   "execution_count": 807,
   "metadata": {},
   "outputs": [
    {
     "data": {
      "image/png": "[encoded data removed]",
      "text/plain": [
       "<Figure size 1000x600 with 1 Axes>"
      ]
     },
     "metadata": {},
     "output_type": "display_data"
    }
   ],
   "source": [
    "import matplotlib.pyplot as plt\n",
    "\n",
    "# Assuming `predictions` are stored in `predictions` from your GBM model and `y_test` are the actual values\n",
    "plt.figure(figsize=(10, 6))\n",
    "plt.scatter(y_test, predictions, alpha=0.5)\n",
    "plt.title('Actual vs. Predicted Green Times')\n",
    "plt.xlabel('Actual Green Time (seconds)')\n",
    "plt.ylabel('Predicted Green Time (seconds)')\n",
    "plt.plot([y_test.min(), y_test.max()], [y_test.min(), y_test.max()], 'k--', lw=4)\n",
    "plt.show()\n"
   ]
  },
  {
   "cell_type": "code",
   "execution_count": 809,
   "metadata": {},
   "outputs": [
    {
     "data": {
      "image/png": "[encoded data removed]",
      "text/plain": [
       "<Figure size 1000x600 with 1 Axes>"
      ]
     },
     "metadata": {},
     "output_type": "display_data"
    }
   ],
   "source": [
    "plt.figure(figsize=(10, 6))\n",
    "plt.hist(y_test, bins=20, alpha=0.5, label='Actual')\n",
    "plt.hist(predictions, bins=20, alpha=0.5, label='Predicted')\n",
    "plt.title('Distribution of Actual vs. Predicted Green Times')\n",
    "plt.xlabel('Green Time (seconds)')\n",
    "plt.ylabel('Frequency')\n",
    "plt.legend()\n",
    "plt.show()\n"
   ]
  },
  {
   "cell_type": "code",
   "execution_count": 811,
   "metadata": {},
   "outputs": [
    {
     "ename": "ModuleNotFoundError",
     "evalue": "No module named 'plotly'",
     "output_type": "error",
     "traceback": [
      "\u001b[1;31m---------------------------------------------------------------------------\u001b[0m",
      "\u001b[1;31mModuleNotFoundError\u001b[0m                       Traceback (most recent call last)",
      "Cell \u001b[1;32mIn[811], line 1\u001b[0m\n\u001b[1;32m----> 1\u001b[0m \u001b[38;5;28;01mimport\u001b[39;00m \u001b[38;5;21;01mplotly\u001b[39;00m\u001b[38;5;21;01m.\u001b[39;00m\u001b[38;5;21;01mexpress\u001b[39;00m \u001b[38;5;28;01mas\u001b[39;00m \u001b[38;5;21;01mpx\u001b[39;00m\n\u001b[0;32m      3\u001b[0m fig \u001b[38;5;241m=\u001b[39m px\u001b[38;5;241m.\u001b[39mscatter(x\u001b[38;5;241m=\u001b[39my_test, y\u001b[38;5;241m=\u001b[39mpredictions, labels\u001b[38;5;241m=\u001b[39m{\u001b[38;5;124m'\u001b[39m\u001b[38;5;124mx\u001b[39m\u001b[38;5;124m'\u001b[39m: \u001b[38;5;124m'\u001b[39m\u001b[38;5;124mActual Green Time\u001b[39m\u001b[38;5;124m'\u001b[39m, \u001b[38;5;124m'\u001b[39m\u001b[38;5;124my\u001b[39m\u001b[38;5;124m'\u001b[39m: \u001b[38;5;124m'\u001b[39m\u001b[38;5;124mPredicted Green Time\u001b[39m\u001b[38;5;124m'\u001b[39m},\n\u001b[0;32m      4\u001b[0m                  title\u001b[38;5;241m=\u001b[39m\u001b[38;5;124m'\u001b[39m\u001b[38;5;124mActual vs Predicted Green Times\u001b[39m\u001b[38;5;124m'\u001b[39m)\n\u001b[0;32m      5\u001b[0m fig\u001b[38;5;241m.\u001b[39madd_shape(\u001b[38;5;28mtype\u001b[39m\u001b[38;5;241m=\u001b[39m\u001b[38;5;124m'\u001b[39m\u001b[38;5;124mline\u001b[39m\u001b[38;5;124m'\u001b[39m, x0\u001b[38;5;241m=\u001b[39my_test\u001b[38;5;241m.\u001b[39mmin(), y0\u001b[38;5;241m=\u001b[39my_test\u001b[38;5;241m.\u001b[39mmin(), x1\u001b[38;5;241m=\u001b[39my_test\u001b[38;5;241m.\u001b[39mmax(), y1\u001b[38;5;241m=\u001b[39my_test\u001b[38;5;241m.\u001b[39mmax())\n",
      "\u001b[1;31mModuleNotFoundError\u001b[0m: No module named 'plotly'"
     ]
    }
   ],
   "source": [
    "import plotly.express as px\n",
    "\n",
    "fig = px.scatter(x=y_test, y=predictions, labels={'x': 'Actual Green Time', 'y': 'Predicted Green Time'},\n",
    "                 title='Actual vs Predicted Green Times')\n",
    "fig.add_shape(type='line', x0=y_test.min(), y0=y_test.min(), x1=y_test.max(), y1=y_test.max())\n",
    "fig.show()\n"
   ]
  },
  {
   "cell_type": "code",
   "execution_count": null,
   "metadata": {},
   "outputs": [],
   "source": []
  }
 ],
 "metadata": {
  "kernelspec": {
   "display_name": "Python 3",
   "language": "python",
   "name": "python3"
  },
  "language_info": {
   "codemirror_mode": {
    "name": "ipython",
    "version": 3
   },
   "file_extension": ".py",
   "mimetype": "text/x-python",
   "name": "python",
   "nbconvert_exporter": "python",
   "pygments_lexer": "ipython3",
   "version": "3.12.4"
  }
 },
 "nbformat": 4,
 "nbformat_minor": 2
}
