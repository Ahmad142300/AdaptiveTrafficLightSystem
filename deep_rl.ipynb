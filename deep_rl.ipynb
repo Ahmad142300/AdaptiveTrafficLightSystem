{
 "cells": [
  {
   "cell_type": "code",
   "execution_count": 26,
   "metadata": {},
   "outputs": [],
   "source": [
    "import numpy as np\n",
    "import tensorflow as tf\n",
    "from tensorflow.keras.models import Sequential\n",
    "from tensorflow.keras import layers, Model\n",
    "from tensorflow.keras.layers import Dense, Flatten\n",
    "from tensorflow.keras.optimizers import Adam"
   ]
  },
  {
   "cell_type": "code",
   "execution_count": 27,
   "metadata": {},
   "outputs": [],
   "source": [
    "# Define States\n",
    "numberOfSignals = 16 # 4 intersections\n",
    "# a single integer will represent time\n",
    "# for each signal, we consider the light phase and number of cars\n",
    "stateVectorSize = (16*2) + 1 # numOfSignals * no. data points per signal + time of day\n",
    "\n",
    "inputs = layers.Input(shape=(21,), name='state')"
   ]
  },
  {
   "cell_type": "code",
   "execution_count": 28,
   "metadata": {},
   "outputs": [],
   "source": [
    "# Neural Network Layers\n",
    "x = layers.Dense(64, activation='relu')(inputs)\n",
    "x = layers.Dense(64, activation='relu')(x)"
   ]
  },
  {
   "cell_type": "code",
   "execution_count": 29,
   "metadata": {},
   "outputs": [],
   "source": [
    "# Output layer for green light duration\n",
    "\n",
    "greenDuration = layers.Dense(1, activation='sigmoid', name = 'duration')(x) \n",
    "# Why sigmoid? Ensure output is between 0 and 1.\n",
    "scaledDuration = layers.Lambda(lambda x: x * 100 + 20)(greenDuration) # scale duration to seconds between 5 and 100 "
   ]
  },
  {
   "cell_type": "code",
   "execution_count": 30,
   "metadata": {},
   "outputs": [],
   "source": [
    "# Creating our model\n",
    "def model(inputs):\n",
    "    model = Model(inputs=inputs, outputs=scaledDuration)\n",
    "    model.compile(optimizer='adam', loss='mse')"
   ]
  }
 ],
 "metadata": {
  "kernelspec": {
   "display_name": "Python 3",
   "language": "python",
   "name": "python3"
  },
  "language_info": {
   "codemirror_mode": {
    "name": "ipython",
    "version": 3
   },
   "file_extension": ".py",
   "mimetype": "text/x-python",
   "name": "python",
   "nbconvert_exporter": "python",
   "pygments_lexer": "ipython3",
   "version": "3.12.4"
  }
 },
 "nbformat": 4,
 "nbformat_minor": 2
}
