{
 "cells": [
  {
   "cell_type": "code",
   "execution_count": 84,
   "metadata": {},
   "outputs": [],
   "source": [
    "# pip install xgboost"
   ]
  },
  {
   "cell_type": "code",
   "execution_count": 122,
   "metadata": {},
   "outputs": [],
   "source": [
    "import pandas as pd\n",
    "import numpy as np\n",
    "import xgboost as xgb\n",
    "from sklearn.model_selection import train_test_split\n",
    "from sklearn.metrics import mean_squared_error\n",
    "from sklearn.preprocessing import StandardScaler\n",
    "from sklearn.model_selection import GridSearchCV\n",
    "import matplotlib.pyplot as plt\n"
   ]
  },
  {
   "cell_type": "code",
   "execution_count": 86,
   "metadata": {},
   "outputs": [],
   "source": [
    "# Load JSON data into a DataFrame\n",
    "df = pd.read_csv('dataset1.csv')"
   ]
  },
  {
   "cell_type": "markdown",
   "metadata": {},
   "source": [
    "FEATURE ENGINEERING AND EXRTACTION"
   ]
  },
  {
   "cell_type": "code",
   "execution_count": 87,
   "metadata": {},
   "outputs": [],
   "source": [
    "# categorize trafficIDs from strings that contain letters and numbers to just numbers\n",
    "df['trafficID'] = df['trafficID'].astype('category').cat.codes"
   ]
  },
  {
   "cell_type": "code",
   "execution_count": 88,
   "metadata": {},
   "outputs": [],
   "source": [
    "# Convert timestamps to datetime if they aren't already\n",
    "df['timeStamp'] = pd.to_datetime(df['timeStamp'])\n",
    "\n",
    "# Extract date and time components\n",
    "df['hour'] = df['timeStamp'].dt.hour\n",
    "df['minute'] = df['timeStamp'].dt.minute\n",
    "df['second'] = df['timeStamp'].dt.second\n",
    "\n",
    "\n",
    "# Assumption: 70% of cars go forward, 20% turn left, 10% turn right.\n",
    "# These assumptions will be replaced with actual data in the future using sensors.\n",
    "df['forward_flow'] = round(df['num_cars'] * 0.7)\n",
    "df['left_flow'] = round(df['num_cars'] * 0.2)\n",
    "df['right_flow'] = round(df['num_cars'] * 0.1)\n",
    "\n",
    "# Calculate flow ratios for each direction\n",
    "df['forward_flow_ratio'] = df['forward_flow'] / df['num_cars']\n",
    "df['left_flow_ratio'] = df['left_flow'] / df['num_cars']\n",
    "df['right_flow_ratio'] = df['right_flow'] / df['num_cars']\n"
   ]
  },
  {
   "cell_type": "code",
   "execution_count": 89,
   "metadata": {},
   "outputs": [],
   "source": [
    "# Temporal Features based on trafficID\n",
    "df['time_since_last_green'] = df.groupby('trafficID')['timeStamp'].diff().dt.total_seconds().fillna(0)\n",
    "\n",
    "# Average time between green signals\n",
    "df['avg_time_between_greens'] = df.groupby('trafficID')['timeStamp'].diff().dt.total_seconds().groupby(df['trafficID']).transform('mean').fillna(0)"
   ]
  },
  {
   "cell_type": "code",
   "execution_count": 90,
   "metadata": {},
   "outputs": [],
   "source": [
    "# Peak flow is the maximum flow of cars in any direction categorized into  0, 1, 2\n",
    "# 0: forward flow, 1: left flow, 2: right flow\n",
    "df['peak_flow'] = df[['forward_flow', 'left_flow', 'right_flow']].idxmax(axis=1).astype('category').cat.codes\n"
   ]
  },
  {
   "cell_type": "code",
   "execution_count": 91,
   "metadata": {},
   "outputs": [],
   "source": [
    "def categorize_time_of_day(hour):\n",
    "    '''Categorize the time of day based on the hour of the day.'''\n",
    "    if 5 <= hour < 12:\n",
    "        return 'Morning'\n",
    "    elif 12 <= hour < 17:\n",
    "        return 'Afternoon'\n",
    "    elif 17 <= hour < 21:\n",
    "        return 'Evening'\n",
    "    else:\n",
    "        return 'Night'\n",
    "\n",
    "df['part_of_day'] = df['hour'].apply(categorize_time_of_day)"
   ]
  },
  {
   "cell_type": "code",
   "execution_count": 92,
   "metadata": {},
   "outputs": [],
   "source": [
    "# Calculate the difference in car count between consecutive time stamps by traffic ID\n",
    "df['car_count_diff'] = df.groupby('trafficID')['num_cars'].diff()"
   ]
  },
  {
   "cell_type": "code",
   "execution_count": 93,
   "metadata": {},
   "outputs": [],
   "source": [
    "# Calculate the exponential moving average of the number of cars\n",
    "df['ema_cars'] = df['num_cars'].ewm(span=10, adjust=False).mean()"
   ]
  },
  {
   "cell_type": "code",
   "execution_count": 94,
   "metadata": {},
   "outputs": [],
   "source": [
    "# Create a columns to indicate whether the day is a weekend or not\n",
    "df['weekday'] = df['timeStamp'].dt.weekday\n",
    "df['is_weekend'] = df['weekday'].apply(lambda x: 1 if x >= 5 else 0)"
   ]
  },
  {
   "cell_type": "code",
   "execution_count": 95,
   "metadata": {},
   "outputs": [],
   "source": [
    "# Create a column to indicate whether the day is a public holiday or not\n",
    "public_holidays = set(['2024-09-23', '2025-02-22']) # Saudi National Day and Founding Day of the Kingdom of Saudi Arabia\n",
    "df['is_public_holiday'] = df['timeStamp'].dt.date.astype(str).isin(public_holidays).astype(int)"
   ]
  },
  {
   "cell_type": "code",
   "execution_count": 96,
   "metadata": {},
   "outputs": [],
   "source": [
    "# Create a column to indicate the time of day as a sin/cos pair\n",
    "period = 7 * 24  # 7 days * 24 hours\n",
    "df['sin_time'] = np.sin(2 * np.pi * df['timeStamp'].dt.hour / period)\n",
    "df['cos_time'] = np.cos(2 * np.pi * df['timeStamp'].dt.hour / period)\n"
   ]
  },
  {
   "cell_type": "code",
   "execution_count": 97,
   "metadata": {},
   "outputs": [],
   "source": [
    "# Removing NaN values from car_count_diff column and setting them to 0\n",
    "df['car_count_diff'].fillna(value=0, inplace=True)\n",
    "# df['weatherStamp:'].fillna(value=30, inplace=True)"
   ]
  },
  {
   "cell_type": "code",
   "execution_count": 98,
   "metadata": {},
   "outputs": [],
   "source": [
    "# Group by date and trafficID, calculate the mean of the 3 flow directions, then calculate the mean of the 3 flow directions\n",
    "daily_std_dev = df.groupby(['dateStamp', 'trafficID'])[['forward_flow', 'left_flow', 'right_flow']].std().mean(axis=1).reset_index()\n",
    "\n",
    "# Rename the column for clarity\n",
    "daily_std_dev.columns = ['dateStamp', 'trafficID', 'daily_std_dev']\n",
    "\n",
    "# Merge the daily standard deviation back to the original DataFrame\n",
    "df = pd.merge(df, daily_std_dev, on=['dateStamp', 'trafficID'])"
   ]
  },
  {
   "cell_type": "code",
   "execution_count": 99,
   "metadata": {},
   "outputs": [],
   "source": [
    "# Data handling before model training\n",
    "# convert timestamp to numeric\n",
    "df['timeStamp_numeric'] = df['timeStamp'].apply(lambda x: x.timestamp())\n",
    "# convert dateStamp from str to datetime then to numeric\n",
    "df['dateStamp'] = pd.to_datetime(df['dateStamp'])\n",
    "df['dateStamp_numeric'] = df['dateStamp'].apply(lambda x: x.timestamp())\n",
    "# drop the original timestamp and datestamp columns\n",
    "df.drop(['timeStamp', 'dateStamp'], axis=1, inplace=True)"
   ]
  },
  {
   "cell_type": "code",
   "execution_count": 100,
   "metadata": {},
   "outputs": [],
   "source": [
    "# change part_of_day to categories and then to numeric\n",
    "df['part_of_day'] = df['part_of_day'].astype('category').cat.codes  # convert to numeric"
   ]
  },
  {
   "cell_type": "code",
   "execution_count": 101,
   "metadata": {},
   "outputs": [],
   "source": [
    "# Dropping unneeded columns\n",
    "# Drop hour, min, second\n",
    "df.drop(['hour', 'minute', 'second'], axis=1, inplace=True)\n",
    "\n",
    "# drop flow ratios\n",
    "df.drop(['forward_flow_ratio', 'left_flow_ratio', 'right_flow_ratio'], axis=1, inplace=True)\n",
    "\n",
    "# drop timeStamp_numeric\n",
    "df.drop(['timeStamp_numeric'], axis=1, inplace=True)\n",
    "\n",
    "# drop weatherStamp:\n",
    "df.drop(['weatherStamp:'], axis=1, inplace=True)\n",
    "\n"
   ]
  },
  {
   "cell_type": "code",
   "execution_count": 102,
   "metadata": {},
   "outputs": [],
   "source": [
    "# Convert all str columns in df to numeric (float)\n",
    "for col in df.columns:\n",
    "    if df[col].dtype == 'str':\n",
    "        df[col] = pd.to_numeric(df[col], errors='coerce', inplace=True)"
   ]
  },
  {
   "cell_type": "code",
   "execution_count": 103,
   "metadata": {},
   "outputs": [
    {
     "name": "stdout",
     "output_type": "stream",
     "text": [
      "trafficID: int8\n",
      "num_cars: int64\n",
      "greenTime: int64\n",
      "forward_flow: float64\n",
      "left_flow: float64\n",
      "right_flow: float64\n",
      "time_since_last_green: float64\n",
      "avg_time_between_greens: float64\n",
      "peak_flow: int8\n",
      "part_of_day: int8\n",
      "car_count_diff: float64\n",
      "ema_cars: float64\n",
      "weekday: int64\n",
      "is_weekend: int64\n",
      "is_public_holiday: int32\n",
      "sin_time: float64\n",
      "cos_time: float64\n",
      "daily_std_dev: float64\n",
      "dateStamp_numeric: float64\n"
     ]
    }
   ],
   "source": [
    "for col in df.columns:\n",
    "    print(f\"{col}: {df[col].dtype}\")"
   ]
  },
  {
   "cell_type": "code",
   "execution_count": 104,
   "metadata": {},
   "outputs": [],
   "source": [
    "# replace Nans with 0 and inf with 1e9\n",
    "df.fillna(0, inplace=True)"
   ]
  },
  {
   "cell_type": "markdown",
   "metadata": {},
   "source": [
    "Normalization"
   ]
  },
  {
   "cell_type": "code",
   "execution_count": 105,
   "metadata": {},
   "outputs": [],
   "source": [
    "# Prepare the scaler\n",
    "scaler = StandardScaler()\n",
    "\n",
    "# Define columns to be scaled\n",
    "columns_to_normalize = ['num_cars', 'daily_std_dev', 'time_since_last_green', 'avg_time_between_greens', 'ema_cars', 'car_count_diff', 'forward_flow', 'left_flow', 'right_flow']\n",
    "\n",
    "# Normalize these columns\n",
    "df[columns_to_normalize] = scaler.fit_transform(df[columns_to_normalize])\n"
   ]
  },
  {
   "cell_type": "markdown",
   "metadata": {},
   "source": [
    "XGBoost Model"
   ]
  },
  {
   "cell_type": "code",
   "execution_count": 106,
   "metadata": {},
   "outputs": [],
   "source": [
    "# Split the data into input features and target\n",
    "# Define your features and target variable\n",
    "feature_cols = ['trafficID', 'num_cars', 'forward_flow', 'left_flow',\n",
    "                'right_flow', 'time_since_last_green', 'avg_time_between_greens',\n",
    "                'peak_flow', 'part_of_day', 'car_count_diff', 'ema_cars', 'weekday',\n",
    "                'is_weekend', 'is_public_holiday', 'sin_time', 'cos_time',\n",
    "                'daily_std_dev', 'dateStamp_numeric']\n",
    "\n",
    "target_col = 'greenTime'\n",
    "\n",
    "# Split the data into input features and target\n",
    "X = df[feature_cols]\n",
    "y = df[target_col]\n",
    "\n",
    "# Split the data into training and test sets\n",
    "X_train, X_test, y_train, y_test = train_test_split(X, y, test_size=0.2, shuffle=False)\n"
   ]
  },
  {
   "cell_type": "code",
   "execution_count": 124,
   "metadata": {},
   "outputs": [
    {
     "name": "stdout",
     "output_type": "stream",
     "text": [
      "Root Mean Squared Error: 2.0893915526752567\n"
     ]
    }
   ],
   "source": [
    "# Define the model\n",
    "model = xgb.XGBRegressor(objective ='reg:squarederror', \n",
    "                         colsample_bytree = 0.3, \n",
    "                         learning_rate = 0.1,\n",
    "                         max_depth = 5, \n",
    "                         alpha = 10, \n",
    "                         n_estimators = 10000)\n",
    "\n",
    "# Train the model\n",
    "model.fit(X_train, y_train)\n",
    "\n",
    "# Predictions\n",
    "predictions = model.predict(X_test)\n",
    "\n",
    "# Evaluate the model\n",
    "rmse = np.sqrt(mean_squared_error(y_test, predictions))\n",
    "print(\"Root Mean Squared Error:\", rmse)"
   ]
  },
  {
   "cell_type": "code",
   "execution_count": 125,
   "metadata": {},
   "outputs": [
    {
     "name": "stdout",
     "output_type": "stream",
     "text": [
      "Fitting 3 folds for each of 108 candidates, totalling 324 fits\n",
      "Best parameters found:  {'alpha': 5, 'colsample_bytree': 0.7, 'learning_rate': 0.05, 'max_depth': 7, 'n_estimators': 100}\n",
      "Best RMSE:  1.5991979096281728\n"
     ]
    }
   ],
   "source": [
    "model2 = xgb.XGBRegressor(objective='reg:squarederror')\n",
    "\n",
    "# Define the parameter grid\n",
    "param_grid = {\n",
    "    'colsample_bytree': [0.3, 0.7],\n",
    "    'learning_rate': [0.05, 0.1, 0.15],\n",
    "    'max_depth': [3, 5, 7],\n",
    "    'alpha': [5, 10],\n",
    "    'n_estimators': [100, 1000, 10000]\n",
    "}\n",
    "\n",
    "# Setup the grid search\n",
    "grid_search = GridSearchCV(estimator=model2, param_grid=param_grid, cv=3, scoring='neg_root_mean_squared_error', verbose=1)\n",
    "\n",
    "# Fit the grid search to the data\n",
    "grid_search.fit(X_train, y_train)\n",
    "\n",
    "# Print the best parameters and best score\n",
    "print(\"Best parameters found: \", grid_search.best_params_)\n",
    "print(\"Best RMSE: \", -grid_search.best_score_)"
   ]
  },
  {
   "cell_type": "code",
   "execution_count": 118,
   "metadata": {},
   "outputs": [
    {
     "data": {
      "image/png": "[encoded data removed]",
      "text/plain": [
       "<Figure size 1000x600 with 1 Axes>"
      ]
     },
     "metadata": {},
     "output_type": "display_data"
    }
   ],
   "source": [
    "# Assuming `predictions` are stored in `predictions` and `y_test` are the actual values\n",
    "plt.figure(figsize=(10, 6))\n",
    "plt.scatter(y_test, predictions, alpha=0.5)\n",
    "plt.title('Actual vs. Predicted Green Times')\n",
    "plt.xlabel('Actual Green Time (seconds)')\n",
    "plt.ylabel('Predicted Green Time (seconds)')\n",
    "plt.plot([y_test.min(), y_test.max()], [y_test.min(), y_test.max()], 'k--', lw=4)\n",
    "plt.show()\n"
   ]
  },
  {
   "cell_type": "code",
   "execution_count": 119,
   "metadata": {},
   "outputs": [
    {
     "data": {
      "image/png": "[encoded data removed]",
      "text/plain": [
       "<Figure size 1000x600 with 1 Axes>"
      ]
     },
     "metadata": {},
     "output_type": "display_data"
    }
   ],
   "source": [
    "plt.figure(figsize=(10, 6))\n",
    "plt.hist(y_test, bins=20, alpha=0.5, label='Actual')\n",
    "plt.hist(predictions, bins=20, alpha=0.5, label='Predicted')\n",
    "plt.title('Distribution of Actual vs. Predicted Green Times')\n",
    "plt.xlabel('Green Time (seconds)')\n",
    "plt.ylabel('Frequency')\n",
    "plt.legend()\n",
    "plt.show()\n"
   ]
  },
  {
   "cell_type": "code",
   "execution_count": 113,
   "metadata": {},
   "outputs": [
    {
     "data": {
      "application/vnd.plotly.v1+json": {
       "config": {
        "plotlyServerURL": "https://plot.ly"
       },
       "data": [
        {
         "hovertemplate": "Actual Green Time=%{x}<br>Predicted Green Time=%{y}<extra></extra>",
         "legendgroup": "",
         "marker": {
          "color": "#636efa",
          "symbol": "circle"
         },
         "mode": "markers",
         "name": "",
         "orientation": "v",
         "showlegend": false,
         "type": "scatter",
         "x": [
          15,
          23,
          40,
          31,
          23,
          10,
          44,
          5,
          35,
          19,
          43,
          50,
          43,
          25,
          38,
          27,
          5,
          48,
          50,
          50,
          50,
          27,
          9,
          47,
          50,
          50,
          50,
          50,
          47,
          35,
          10,
          28,
          42,
          50,
          50,
          50,
          50,
          50,
          50,
          27,
          17,
          31,
          22,
          47,
          50,
          50,
          42,
          25,
          10,
          44,
          27,
          21,
          27,
          20,
          20,
          18,
          19,
          30,
          47,
          50,
          50,
          50,
          48,
          48,
          48,
          50,
          48,
          50,
          50,
          50,
          50,
          50,
          50,
          50,
          50,
          50,
          50,
          3,
          8,
          42,
          34,
          50,
          50,
          50,
          49,
          3,
          3,
          46,
          48,
          18,
          33,
          40,
          48,
          4,
          38,
          6,
          24,
          23,
          45,
          41,
          45,
          37,
          50,
          50,
          44,
          26,
          26,
          6,
          16,
          29,
          41,
          10,
          29,
          25,
          30,
          50,
          20,
          50,
          10,
          11,
          12,
          10,
          20,
          25,
          50,
          50,
          48,
          45,
          36,
          8,
          8,
          24,
          50,
          50,
          18,
          3,
          50,
          50,
          50,
          47,
          50,
          37,
          3,
          15,
          30,
          50,
          31,
          39,
          17,
          33,
          34,
          26,
          25,
          3,
          28,
          22,
          50,
          30,
          17,
          19,
          27,
          24,
          20,
          50,
          46,
          27,
          23,
          42,
          5,
          50,
          48,
          44,
          50,
          50,
          6,
          39,
          3,
          26,
          42,
          3,
          50,
          50,
          27,
          50,
          25,
          4,
          17,
          10,
          41,
          50,
          50,
          12,
          28,
          3,
          41,
          35,
          50,
          50,
          50,
          25,
          27,
          50,
          47,
          3,
          50,
          18,
          25,
          49,
          39,
          41,
          22,
          9,
          14,
          6,
          50,
          16
         ],
         "xaxis": "x",
         "y": [
          14.988139152526855,
          23.82470703125,
          40.5137825012207,
          30.407712936401367,
          24.131969451904297,
          10.034563064575195,
          44.33339309692383,
          5.596344947814941,
          34.66429901123047,
          18.402328491210938,
          44.0833740234375,
          49.881568908691406,
          43.951908111572266,
          24.796062469482422,
          37.5631217956543,
          26.240859985351562,
          4.5748209953308105,
          48.15058135986328,
          49.68207931518555,
          49.96492385864258,
          49.23418045043945,
          26.863920211791992,
          9.413447380065918,
          46.57925033569336,
          49.14326858520508,
          49.68104934692383,
          49.85823440551758,
          49.165706634521484,
          46.55799102783203,
          36.47723388671875,
          10.059762001037598,
          27.850337982177734,
          42.04374313354492,
          49.67707443237305,
          50.475528717041016,
          50.226280212402344,
          49.969173431396484,
          49.60863494873047,
          48.710205078125,
          28.657798767089844,
          17.316883087158203,
          30.229717254638672,
          22.980716705322266,
          46.31711196899414,
          49.14857864379883,
          49.56414794921875,
          42.94621276855469,
          25.04517936706543,
          9.988980293273926,
          43.919376373291016,
          25.99880599975586,
          20.95749282836914,
          26.737974166870117,
          19.434906005859375,
          19.08008575439453,
          16.975793838500977,
          19.353717803955078,
          30.499675750732422,
          47.65415573120117,
          50.20488357543945,
          49.564178466796875,
          49.67113494873047,
          47.63673782348633,
          48.150390625,
          47.99906921386719,
          50.779518127441406,
          48.85413360595703,
          51.00829315185547,
          49.95790481567383,
          49.87091827392578,
          49.521278381347656,
          49.099578857421875,
          49.74345397949219,
          49.25160598754883,
          49.67665100097656,
          49.40878677368164,
          50.48813247680664,
          4.135545253753662,
          9.676848411560059,
          42.709327697753906,
          33.75337219238281,
          49.57945251464844,
          50.17529296875,
          50.0206184387207,
          33.17742919921875,
          4.404444694519043,
          4.024641513824463,
          46.58589553833008,
          48.21192932128906,
          19.05131721496582,
          32.8231201171875,
          39.57523727416992,
          48.28129577636719,
          5.18375301361084,
          39.06505584716797,
          6.196778297424316,
          23.015296936035156,
          23.05220603942871,
          45.51720428466797,
          41.62562942504883,
          45.141231536865234,
          38.13675308227539,
          50.28396224975586,
          50.62708282470703,
          41.511932373046875,
          25.785493850708008,
          26.175798416137695,
          7.009472846984863,
          15.128442764282227,
          29.839092254638672,
          40.24553680419922,
          10.029791831970215,
          29.61872100830078,
          24.71259117126465,
          31.510150909423828,
          50.13703155517578,
          21.362913131713867,
          49.96826171875,
          8.179896354675293,
          11.54849624633789,
          13.558113098144531,
          10.542545318603516,
          19.333602905273438,
          24.765836715698242,
          50.14780044555664,
          49.161014556884766,
          47.349029541015625,
          44.97860336303711,
          36.63050842285156,
          8.588545799255371,
          9.51447582244873,
          23.342226028442383,
          49.890750885009766,
          48.02537536621094,
          14.075957298278809,
          3.611577033996582,
          50.019500732421875,
          49.85170364379883,
          49.45808792114258,
          30.254070281982422,
          50.426815032958984,
          39.35014724731445,
          5.0305023193359375,
          14.261828422546387,
          31.318756103515625,
          49.878631591796875,
          29.988513946533203,
          39.57413864135742,
          17.8466796875,
          33.95599365234375,
          33.44001388549805,
          22.886735916137695,
          25.059965133666992,
          3.2520592212677,
          28.117462158203125,
          22.464101791381836,
          49.77597427368164,
          28.332910537719727,
          17.045623779296875,
          18.5909481048584,
          26.674434661865234,
          23.821374893188477,
          19.782878875732422,
          50.21793746948242,
          43.84359359741211,
          27.191652297973633,
          22.205951690673828,
          42.46107864379883,
          5.405629634857178,
          50.12864685058594,
          46.92586135864258,
          44.55926513671875,
          50.3270263671875,
          50.51319122314453,
          5.782384395599365,
          39.84904479980469,
          3.2838356494903564,
          26.3385009765625,
          41.83244323730469,
          3.4981818199157715,
          50.452430725097656,
          49.39677429199219,
          22.6518611907959,
          50.09182357788086,
          25.127197265625,
          4.636329650878906,
          17.90585708618164,
          9.75045394897461,
          41.46284484863281,
          50.199310302734375,
          49.99480056762695,
          11.707308769226074,
          27.996238708496094,
          3.6813292503356934,
          41.60856628417969,
          35.91389465332031,
          50.04279708862305,
          49.88674545288086,
          50.448036193847656,
          10.062288284301758,
          27.125476837158203,
          50.049808502197266,
          44.81264877319336,
          3.936025381088257,
          50.44850158691406,
          21.656166076660156,
          26.67268943786621,
          49.706573486328125,
          41.07062530517578,
          41.73672103881836,
          23.63605499267578,
          10.08476734161377,
          14.798492431640625,
          5.603326320648193,
          50.1504020690918,
          18.376920700073242
         ],
         "yaxis": "y"
        }
       ],
       "layout": {
        "legend": {
         "tracegroupgap": 0
        },
        "shapes": [
         {
          "type": "line",
          "x0": 3,
          "x1": 50,
          "y0": 3,
          "y1": 50
         }
        ],
        "template": {
         "data": {
          "bar": [
           {
            "error_x": {
             "color": "#2a3f5f"
            },
            "error_y": {
             "color": "#2a3f5f"
            },
            "marker": {
             "line": {
              "color": "#E5ECF6",
              "width": 0.5
             },
             "pattern": {
              "fillmode": "overlay",
              "size": 10,
              "solidity": 0.2
             }
            },
            "type": "bar"
           }
          ],
          "barpolar": [
           {
            "marker": {
             "line": {
              "color": "#E5ECF6",
              "width": 0.5
             },
             "pattern": {
              "fillmode": "overlay",
              "size": 10,
              "solidity": 0.2
             }
            },
            "type": "barpolar"
           }
          ],
          "carpet": [
           {
            "aaxis": {
             "endlinecolor": "#2a3f5f",
             "gridcolor": "white",
             "linecolor": "white",
             "minorgridcolor": "white",
             "startlinecolor": "#2a3f5f"
            },
            "baxis": {
             "endlinecolor": "#2a3f5f",
             "gridcolor": "white",
             "linecolor": "white",
             "minorgridcolor": "white",
             "startlinecolor": "#2a3f5f"
            },
            "type": "carpet"
           }
          ],
          "choropleth": [
           {
            "colorbar": {
             "outlinewidth": 0,
             "ticks": ""
            },
            "type": "choropleth"
           }
          ],
          "contour": [
           {
            "colorbar": {
             "outlinewidth": 0,
             "ticks": ""
            },
            "colorscale": [
             [
              0,
              "#0d0887"
             ],
             [
              0.1111111111111111,
              "#46039f"
             ],
             [
              0.2222222222222222,
              "#7201a8"
             ],
             [
              0.3333333333333333,
              "#9c179e"
             ],
             [
              0.4444444444444444,
              "#bd3786"
             ],
             [
              0.5555555555555556,
              "#d8576b"
             ],
             [
              0.6666666666666666,
              "#ed7953"
             ],
             [
              0.7777777777777778,
              "#fb9f3a"
             ],
             [
              0.8888888888888888,
              "#fdca26"
             ],
             [
              1,
              "#f0f921"
             ]
            ],
            "type": "contour"
           }
          ],
          "contourcarpet": [
           {
            "colorbar": {
             "outlinewidth": 0,
             "ticks": ""
            },
            "type": "contourcarpet"
           }
          ],
          "heatmap": [
           {
            "colorbar": {
             "outlinewidth": 0,
             "ticks": ""
            },
            "colorscale": [
             [
              0,
              "#0d0887"
             ],
             [
              0.1111111111111111,
              "#46039f"
             ],
             [
              0.2222222222222222,
              "#7201a8"
             ],
             [
              0.3333333333333333,
              "#9c179e"
             ],
             [
              0.4444444444444444,
              "#bd3786"
             ],
             [
              0.5555555555555556,
              "#d8576b"
             ],
             [
              0.6666666666666666,
              "#ed7953"
             ],
             [
              0.7777777777777778,
              "#fb9f3a"
             ],
             [
              0.8888888888888888,
              "#fdca26"
             ],
             [
              1,
              "#f0f921"
             ]
            ],
            "type": "heatmap"
           }
          ],
          "heatmapgl": [
           {
            "colorbar": {
             "outlinewidth": 0,
             "ticks": ""
            },
            "colorscale": [
             [
              0,
              "#0d0887"
             ],
             [
              0.1111111111111111,
              "#46039f"
             ],
             [
              0.2222222222222222,
              "#7201a8"
             ],
             [
              0.3333333333333333,
              "#9c179e"
             ],
             [
              0.4444444444444444,
              "#bd3786"
             ],
             [
              0.5555555555555556,
              "#d8576b"
             ],
             [
              0.6666666666666666,
              "#ed7953"
             ],
             [
              0.7777777777777778,
              "#fb9f3a"
             ],
             [
              0.8888888888888888,
              "#fdca26"
             ],
             [
              1,
              "#f0f921"
             ]
            ],
            "type": "heatmapgl"
           }
          ],
          "histogram": [
           {
            "marker": {
             "pattern": {
              "fillmode": "overlay",
              "size": 10,
              "solidity": 0.2
             }
            },
            "type": "histogram"
           }
          ],
          "histogram2d": [
           {
            "colorbar": {
             "outlinewidth": 0,
             "ticks": ""
            },
            "colorscale": [
             [
              0,
              "#0d0887"
             ],
             [
              0.1111111111111111,
              "#46039f"
             ],
             [
              0.2222222222222222,
              "#7201a8"
             ],
             [
              0.3333333333333333,
              "#9c179e"
             ],
             [
              0.4444444444444444,
              "#bd3786"
             ],
             [
              0.5555555555555556,
              "#d8576b"
             ],
             [
              0.6666666666666666,
              "#ed7953"
             ],
             [
              0.7777777777777778,
              "#fb9f3a"
             ],
             [
              0.8888888888888888,
              "#fdca26"
             ],
             [
              1,
              "#f0f921"
             ]
            ],
            "type": "histogram2d"
           }
          ],
          "histogram2dcontour": [
           {
            "colorbar": {
             "outlinewidth": 0,
             "ticks": ""
            },
            "colorscale": [
             [
              0,
              "#0d0887"
             ],
             [
              0.1111111111111111,
              "#46039f"
             ],
             [
              0.2222222222222222,
              "#7201a8"
             ],
             [
              0.3333333333333333,
              "#9c179e"
             ],
             [
              0.4444444444444444,
              "#bd3786"
             ],
             [
              0.5555555555555556,
              "#d8576b"
             ],
             [
              0.6666666666666666,
              "#ed7953"
             ],
             [
              0.7777777777777778,
              "#fb9f3a"
             ],
             [
              0.8888888888888888,
              "#fdca26"
             ],
             [
              1,
              "#f0f921"
             ]
            ],
            "type": "histogram2dcontour"
           }
          ],
          "mesh3d": [
           {
            "colorbar": {
             "outlinewidth": 0,
             "ticks": ""
            },
            "type": "mesh3d"
           }
          ],
          "parcoords": [
           {
            "line": {
             "colorbar": {
              "outlinewidth": 0,
              "ticks": ""
             }
            },
            "type": "parcoords"
           }
          ],
          "pie": [
           {
            "automargin": true,
            "type": "pie"
           }
          ],
          "scatter": [
           {
            "fillpattern": {
             "fillmode": "overlay",
             "size": 10,
             "solidity": 0.2
            },
            "type": "scatter"
           }
          ],
          "scatter3d": [
           {
            "line": {
             "colorbar": {
              "outlinewidth": 0,
              "ticks": ""
             }
            },
            "marker": {
             "colorbar": {
              "outlinewidth": 0,
              "ticks": ""
             }
            },
            "type": "scatter3d"
           }
          ],
          "scattercarpet": [
           {
            "marker": {
             "colorbar": {
              "outlinewidth": 0,
              "ticks": ""
             }
            },
            "type": "scattercarpet"
           }
          ],
          "scattergeo": [
           {
            "marker": {
             "colorbar": {
              "outlinewidth": 0,
              "ticks": ""
             }
            },
            "type": "scattergeo"
           }
          ],
          "scattergl": [
           {
            "marker": {
             "colorbar": {
              "outlinewidth": 0,
              "ticks": ""
             }
            },
            "type": "scattergl"
           }
          ],
          "scattermapbox": [
           {
            "marker": {
             "colorbar": {
              "outlinewidth": 0,
              "ticks": ""
             }
            },
            "type": "scattermapbox"
           }
          ],
          "scatterpolar": [
           {
            "marker": {
             "colorbar": {
              "outlinewidth": 0,
              "ticks": ""
             }
            },
            "type": "scatterpolar"
           }
          ],
          "scatterpolargl": [
           {
            "marker": {
             "colorbar": {
              "outlinewidth": 0,
              "ticks": ""
             }
            },
            "type": "scatterpolargl"
           }
          ],
          "scatterternary": [
           {
            "marker": {
             "colorbar": {
              "outlinewidth": 0,
              "ticks": ""
             }
            },
            "type": "scatterternary"
           }
          ],
          "surface": [
           {
            "colorbar": {
             "outlinewidth": 0,
             "ticks": ""
            },
            "colorscale": [
             [
              0,
              "#0d0887"
             ],
             [
              0.1111111111111111,
              "#46039f"
             ],
             [
              0.2222222222222222,
              "#7201a8"
             ],
             [
              0.3333333333333333,
              "#9c179e"
             ],
             [
              0.4444444444444444,
              "#bd3786"
             ],
             [
              0.5555555555555556,
              "#d8576b"
             ],
             [
              0.6666666666666666,
              "#ed7953"
             ],
             [
              0.7777777777777778,
              "#fb9f3a"
             ],
             [
              0.8888888888888888,
              "#fdca26"
             ],
             [
              1,
              "#f0f921"
             ]
            ],
            "type": "surface"
           }
          ],
          "table": [
           {
            "cells": {
             "fill": {
              "color": "#EBF0F8"
             },
             "line": {
              "color": "white"
             }
            },
            "header": {
             "fill": {
              "color": "#C8D4E3"
             },
             "line": {
              "color": "white"
             }
            },
            "type": "table"
           }
          ]
         },
         "layout": {
          "annotationdefaults": {
           "arrowcolor": "#2a3f5f",
           "arrowhead": 0,
           "arrowwidth": 1
          },
          "autotypenumbers": "strict",
          "coloraxis": {
           "colorbar": {
            "outlinewidth": 0,
            "ticks": ""
           }
          },
          "colorscale": {
           "diverging": [
            [
             0,
             "#8e0152"
            ],
            [
             0.1,
             "#c51b7d"
            ],
            [
             0.2,
             "#de77ae"
            ],
            [
             0.3,
             "#f1b6da"
            ],
            [
             0.4,
             "#fde0ef"
            ],
            [
             0.5,
             "#f7f7f7"
            ],
            [
             0.6,
             "#e6f5d0"
            ],
            [
             0.7,
             "#b8e186"
            ],
            [
             0.8,
             "#7fbc41"
            ],
            [
             0.9,
             "#4d9221"
            ],
            [
             1,
             "#276419"
            ]
           ],
           "sequential": [
            [
             0,
             "#0d0887"
            ],
            [
             0.1111111111111111,
             "#46039f"
            ],
            [
             0.2222222222222222,
             "#7201a8"
            ],
            [
             0.3333333333333333,
             "#9c179e"
            ],
            [
             0.4444444444444444,
             "#bd3786"
            ],
            [
             0.5555555555555556,
             "#d8576b"
            ],
            [
             0.6666666666666666,
             "#ed7953"
            ],
            [
             0.7777777777777778,
             "#fb9f3a"
            ],
            [
             0.8888888888888888,
             "#fdca26"
            ],
            [
             1,
             "#f0f921"
            ]
           ],
           "sequentialminus": [
            [
             0,
             "#0d0887"
            ],
            [
             0.1111111111111111,
             "#46039f"
            ],
            [
             0.2222222222222222,
             "#7201a8"
            ],
            [
             0.3333333333333333,
             "#9c179e"
            ],
            [
             0.4444444444444444,
             "#bd3786"
            ],
            [
             0.5555555555555556,
             "#d8576b"
            ],
            [
             0.6666666666666666,
             "#ed7953"
            ],
            [
             0.7777777777777778,
             "#fb9f3a"
            ],
            [
             0.8888888888888888,
             "#fdca26"
            ],
            [
             1,
             "#f0f921"
            ]
           ]
          },
          "colorway": [
           "#636efa",
           "#EF553B",
           "#00cc96",
           "#ab63fa",
           "#FFA15A",
           "#19d3f3",
           "#FF6692",
           "#B6E880",
           "#FF97FF",
           "#FECB52"
          ],
          "font": {
           "color": "#2a3f5f"
          },
          "geo": {
           "bgcolor": "white",
           "lakecolor": "white",
           "landcolor": "#E5ECF6",
           "showlakes": true,
           "showland": true,
           "subunitcolor": "white"
          },
          "hoverlabel": {
           "align": "left"
          },
          "hovermode": "closest",
          "mapbox": {
           "style": "light"
          },
          "paper_bgcolor": "white",
          "plot_bgcolor": "#E5ECF6",
          "polar": {
           "angularaxis": {
            "gridcolor": "white",
            "linecolor": "white",
            "ticks": ""
           },
           "bgcolor": "#E5ECF6",
           "radialaxis": {
            "gridcolor": "white",
            "linecolor": "white",
            "ticks": ""
           }
          },
          "scene": {
           "xaxis": {
            "backgroundcolor": "#E5ECF6",
            "gridcolor": "white",
            "gridwidth": 2,
            "linecolor": "white",
            "showbackground": true,
            "ticks": "",
            "zerolinecolor": "white"
           },
           "yaxis": {
            "backgroundcolor": "#E5ECF6",
            "gridcolor": "white",
            "gridwidth": 2,
            "linecolor": "white",
            "showbackground": true,
            "ticks": "",
            "zerolinecolor": "white"
           },
           "zaxis": {
            "backgroundcolor": "#E5ECF6",
            "gridcolor": "white",
            "gridwidth": 2,
            "linecolor": "white",
            "showbackground": true,
            "ticks": "",
            "zerolinecolor": "white"
           }
          },
          "shapedefaults": {
           "line": {
            "color": "#2a3f5f"
           }
          },
          "ternary": {
           "aaxis": {
            "gridcolor": "white",
            "linecolor": "white",
            "ticks": ""
           },
           "baxis": {
            "gridcolor": "white",
            "linecolor": "white",
            "ticks": ""
           },
           "bgcolor": "#E5ECF6",
           "caxis": {
            "gridcolor": "white",
            "linecolor": "white",
            "ticks": ""
           }
          },
          "title": {
           "x": 0.05
          },
          "xaxis": {
           "automargin": true,
           "gridcolor": "white",
           "linecolor": "white",
           "ticks": "",
           "title": {
            "standoff": 15
           },
           "zerolinecolor": "white",
           "zerolinewidth": 2
          },
          "yaxis": {
           "automargin": true,
           "gridcolor": "white",
           "linecolor": "white",
           "ticks": "",
           "title": {
            "standoff": 15
           },
           "zerolinecolor": "white",
           "zerolinewidth": 2
          }
         }
        },
        "title": {
         "text": "Actual vs Predicted Green Times"
        },
        "xaxis": {
         "anchor": "y",
         "domain": [
          0,
          1
         ],
         "title": {
          "text": "Actual Green Time"
         }
        },
        "yaxis": {
         "anchor": "x",
         "domain": [
          0,
          1
         ],
         "title": {
          "text": "Predicted Green Time"
         }
        }
       }
      }
     },
     "metadata": {},
     "output_type": "display_data"
    }
   ],
   "source": [
    "import plotly.express as px\n",
    "\n",
    "fig = px.scatter(x=y_test, y=predictions, labels={'x': 'Actual Green Time', 'y': 'Predicted Green Time'},\n",
    "                 title='Actual vs Predicted Green Times')\n",
    "fig.add_shape(type='line', x0=y_test.min(), y0=y_test.min(), x1=y_test.max(), y1=y_test.max())\n",
    "fig.show()\n"
   ]
  },
  {
   "cell_type": "code",
   "execution_count": null,
   "metadata": {},
   "outputs": [],
   "source": []
  }
 ],
 "metadata": {
  "kernelspec": {
   "display_name": "Python 3",
   "language": "python",
   "name": "python3"
  },
  "language_info": {
   "codemirror_mode": {
    "name": "ipython",
    "version": 3
   },
   "file_extension": ".py",
   "mimetype": "text/x-python",
   "name": "python",
   "nbconvert_exporter": "python",
   "pygments_lexer": "ipython3",
   "version": "3.10.6"
  }
 },
 "nbformat": 4,
 "nbformat_minor": 2
}
